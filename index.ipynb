{
 "cells": [
  {
   "cell_type": "markdown",
   "id": "3b741d4d",
   "metadata": {},
   "source": [
    "# AN ANALYSIS OF AVIATION ACCIDENTS(1919 TO 2023)"
   ]
  },
  {
   "cell_type": "markdown",
   "id": "9af2b3ef",
   "metadata": {},
   "source": [
    "<img src=\"Images/Airplane_Analysis.jpeg\" style=\"width: 1980px; height: auto;\" alt=\"Image description\">\n"
   ]
  },
  {
   "cell_type": "markdown",
   "id": "6dbb0b8c",
   "metadata": {},
   "source": [
    "## **Overview**\n"
   ]
  },
  {
   "cell_type": "markdown",
   "id": "608d4ebe",
   "metadata": {},
   "source": [
    "This analysis aims at identifying the least-risk aircraft type that would encourage a well-informed purchase based on historical accidents data. This will be done by examining several variables such as accident frequency, fatality rates, aircraft type, operator and geographical distribution. This will consequently highlight the aircraft and operational environments that are associated with the highest and lowest levels of risk. Afterwards, this data will be used by the company to adjust capital investment, training programs and operational focus to improve resource allocation and minimize financial exposure in this new business endeavor. "
   ]
  },
  {
   "cell_type": "markdown",
   "id": "b29a7770",
   "metadata": {},
   "source": [
    "## **Business Problem**"
   ]
  },
  {
   "cell_type": "markdown",
   "id": "2e3abc59",
   "metadata": {},
   "source": [
    "The company wants to expand to the aviation industry so as to diversify its portfolio. Given that this involves purchasing and operating arplanes for commercial and private enterprises, all the risks involved have to be mitigated to a sustainable level. This ensures that the resource allocation will not only yield profits but also allows the the company to better serve its clients since it is expanding the scope of services they can offer. Using the NTSB Aviation Accidents data, I describe patterns in accidents frequency and accidents location  to anticipate the lowest-risk aircraft to invest in.\n"
   ]
  },
  {
   "cell_type": "markdown",
   "id": "fa80cdef",
   "metadata": {},
   "source": [
    "## **Data Understanding**\n"
   ]
  },
  {
   "cell_type": "markdown",
   "id": "4f259282",
   "metadata": {},
   "source": [
    "The [dataset](https://www.kaggle.com/datasets/drealbash/aviation-accident-from-1919-2023/data) for this analysis contains a compiled list of publicly available aviation accident reports that occurred over a period that spans well over a century: 1919 to 2023. The data set thus provides the date, location and aircraft type for each accident as well as other characteristics (e.g. registration and operator). The dataset contains a total of 23,967 records and 9 fields."
   ]
  },
  {
   "cell_type": "code",
   "execution_count": 1,
   "id": "8bd8b095",
   "metadata": {},
   "outputs": [],
   "source": [
    "# Importing the necessary libraries\n",
    "import pandas as pd"
   ]
  },
  {
   "cell_type": "code",
   "execution_count": 2,
   "id": "cf13cb27",
   "metadata": {},
   "outputs": [
    {
     "data": {
      "text/html": [
       "<div>\n",
       "<style scoped>\n",
       "    .dataframe tbody tr th:only-of-type {\n",
       "        vertical-align: middle;\n",
       "    }\n",
       "\n",
       "    .dataframe tbody tr th {\n",
       "        vertical-align: top;\n",
       "    }\n",
       "\n",
       "    .dataframe thead th {\n",
       "        text-align: right;\n",
       "    }\n",
       "</style>\n",
       "<table border=\"1\" class=\"dataframe\">\n",
       "  <thead>\n",
       "    <tr style=\"text-align: right;\">\n",
       "      <th></th>\n",
       "      <th>date</th>\n",
       "      <th>type</th>\n",
       "      <th>registration</th>\n",
       "      <th>operator</th>\n",
       "      <th>fatalities</th>\n",
       "      <th>location</th>\n",
       "      <th>country</th>\n",
       "      <th>cat</th>\n",
       "      <th>year</th>\n",
       "    </tr>\n",
       "  </thead>\n",
       "  <tbody>\n",
       "    <tr>\n",
       "      <th>0</th>\n",
       "      <td>date unk.</td>\n",
       "      <td>Antonov An-12B</td>\n",
       "      <td>T-1206</td>\n",
       "      <td>Indonesian AF</td>\n",
       "      <td>NaN</td>\n",
       "      <td>NaN</td>\n",
       "      <td>Unknown country</td>\n",
       "      <td>U1</td>\n",
       "      <td>unknown</td>\n",
       "    </tr>\n",
       "    <tr>\n",
       "      <th>1</th>\n",
       "      <td>date unk.</td>\n",
       "      <td>Antonov An-12B</td>\n",
       "      <td>T-1204</td>\n",
       "      <td>Indonesian AF</td>\n",
       "      <td>NaN</td>\n",
       "      <td>NaN</td>\n",
       "      <td>Unknown country</td>\n",
       "      <td>U1</td>\n",
       "      <td>unknown</td>\n",
       "    </tr>\n",
       "    <tr>\n",
       "      <th>2</th>\n",
       "      <td>date unk.</td>\n",
       "      <td>Antonov An-12B</td>\n",
       "      <td>T-1201</td>\n",
       "      <td>Indonesian AF</td>\n",
       "      <td>NaN</td>\n",
       "      <td>NaN</td>\n",
       "      <td>Unknown country</td>\n",
       "      <td>U1</td>\n",
       "      <td>unknown</td>\n",
       "    </tr>\n",
       "    <tr>\n",
       "      <th>3</th>\n",
       "      <td>date unk.</td>\n",
       "      <td>Antonov An-12BK</td>\n",
       "      <td>NaN</td>\n",
       "      <td>Soviet AF</td>\n",
       "      <td>NaN</td>\n",
       "      <td>Tiksi Airport (IKS)</td>\n",
       "      <td>Russia</td>\n",
       "      <td>A1</td>\n",
       "      <td>unknown</td>\n",
       "    </tr>\n",
       "    <tr>\n",
       "      <th>4</th>\n",
       "      <td>date unk.</td>\n",
       "      <td>Antonov An-12BP</td>\n",
       "      <td>CCCP-11815</td>\n",
       "      <td>Soviet AF</td>\n",
       "      <td>0</td>\n",
       "      <td>Massawa Airport ...</td>\n",
       "      <td>Eritrea</td>\n",
       "      <td>A1</td>\n",
       "      <td>unknown</td>\n",
       "    </tr>\n",
       "    <tr>\n",
       "      <th>...</th>\n",
       "      <td>...</td>\n",
       "      <td>...</td>\n",
       "      <td>...</td>\n",
       "      <td>...</td>\n",
       "      <td>...</td>\n",
       "      <td>...</td>\n",
       "      <td>...</td>\n",
       "      <td>...</td>\n",
       "      <td>...</td>\n",
       "    </tr>\n",
       "    <tr>\n",
       "      <th>23962</th>\n",
       "      <td>11-MAY-2023</td>\n",
       "      <td>Hawker 900XP</td>\n",
       "      <td>PK-LRU</td>\n",
       "      <td>Angkasa Super Services</td>\n",
       "      <td>0</td>\n",
       "      <td>Maleo Airport (MOH)</td>\n",
       "      <td>Indonesia</td>\n",
       "      <td>A2</td>\n",
       "      <td>2023</td>\n",
       "    </tr>\n",
       "    <tr>\n",
       "      <th>23963</th>\n",
       "      <td>11-MAY-2023</td>\n",
       "      <td>Cessna 208B Grand Caravan</td>\n",
       "      <td>PK-NGA</td>\n",
       "      <td>Nasional Global Aviasi</td>\n",
       "      <td>0</td>\n",
       "      <td>Fentheik Airstrip</td>\n",
       "      <td>Indonesia</td>\n",
       "      <td>A2</td>\n",
       "      <td>2023</td>\n",
       "    </tr>\n",
       "    <tr>\n",
       "      <th>23964</th>\n",
       "      <td>12-MAY-2023</td>\n",
       "      <td>Cessna 208B Grand Caravan</td>\n",
       "      <td>5X-RBR</td>\n",
       "      <td>Bar Aviation</td>\n",
       "      <td>0</td>\n",
       "      <td>Kampala-Kajjansi...</td>\n",
       "      <td>Uganda</td>\n",
       "      <td>A1</td>\n",
       "      <td>2023</td>\n",
       "    </tr>\n",
       "    <tr>\n",
       "      <th>23965</th>\n",
       "      <td>14-MAY-2023</td>\n",
       "      <td>Boeing 747-4R7F</td>\n",
       "      <td>LX-OCV</td>\n",
       "      <td>Cargolux</td>\n",
       "      <td>0</td>\n",
       "      <td>Luxembourg-Finde...</td>\n",
       "      <td>Luxembourg</td>\n",
       "      <td>A2</td>\n",
       "      <td>2023</td>\n",
       "    </tr>\n",
       "    <tr>\n",
       "      <th>23966</th>\n",
       "      <td>15-MAY-2023</td>\n",
       "      <td>Learjet 35A</td>\n",
       "      <td>D-CGFQ</td>\n",
       "      <td>GFD</td>\n",
       "      <td>2</td>\n",
       "      <td>Hohn Air Base</td>\n",
       "      <td>Germany</td>\n",
       "      <td>A1</td>\n",
       "      <td>2023</td>\n",
       "    </tr>\n",
       "  </tbody>\n",
       "</table>\n",
       "<p>23967 rows × 9 columns</p>\n",
       "</div>"
      ],
      "text/plain": [
       "              date                       type registration  \\\n",
       "0        date unk.             Antonov An-12B       T-1206   \n",
       "1        date unk.             Antonov An-12B       T-1204   \n",
       "2        date unk.             Antonov An-12B       T-1201   \n",
       "3        date unk.            Antonov An-12BK          NaN   \n",
       "4        date unk.            Antonov An-12BP   CCCP-11815   \n",
       "...            ...                        ...          ...   \n",
       "23962  11-MAY-2023               Hawker 900XP       PK-LRU   \n",
       "23963  11-MAY-2023  Cessna 208B Grand Caravan       PK-NGA   \n",
       "23964  12-MAY-2023  Cessna 208B Grand Caravan       5X-RBR   \n",
       "23965  14-MAY-2023            Boeing 747-4R7F       LX-OCV   \n",
       "23966  15-MAY-2023                Learjet 35A       D-CGFQ   \n",
       "\n",
       "                     operator fatalities             location  \\\n",
       "0               Indonesian AF        NaN                  NaN   \n",
       "1               Indonesian AF        NaN                  NaN   \n",
       "2               Indonesian AF        NaN                  NaN   \n",
       "3                   Soviet AF        NaN  Tiksi Airport (IKS)   \n",
       "4                   Soviet AF          0  Massawa Airport ...   \n",
       "...                       ...        ...                  ...   \n",
       "23962  Angkasa Super Services          0  Maleo Airport (MOH)   \n",
       "23963  Nasional Global Aviasi          0    Fentheik Airstrip   \n",
       "23964            Bar Aviation          0  Kampala-Kajjansi...   \n",
       "23965                Cargolux          0  Luxembourg-Finde...   \n",
       "23966                     GFD          2        Hohn Air Base   \n",
       "\n",
       "               country cat     year  \n",
       "0      Unknown country  U1  unknown  \n",
       "1      Unknown country  U1  unknown  \n",
       "2      Unknown country  U1  unknown  \n",
       "3               Russia  A1  unknown  \n",
       "4              Eritrea  A1  unknown  \n",
       "...                ...  ..      ...  \n",
       "23962        Indonesia  A2     2023  \n",
       "23963        Indonesia  A2     2023  \n",
       "23964           Uganda  A1     2023  \n",
       "23965       Luxembourg  A2     2023  \n",
       "23966          Germany  A1     2023  \n",
       "\n",
       "[23967 rows x 9 columns]"
      ]
     },
     "execution_count": 2,
     "metadata": {},
     "output_type": "execute_result"
    }
   ],
   "source": [
    "# Loading the dataset\n",
    "df= pd.read_csv('Data/aviation-accident-data-2023-05-16.csv')\n",
    "df"
   ]
  },
  {
   "cell_type": "markdown",
   "id": "8ea19d8c",
   "metadata": {},
   "source": [
    "Initial exploration revealed that accidents involved in this dataset spanned multiple countries with most of them having none or very few fatalities with each accident being grouped into a specific similar category. There was also a significant number of missing values in the dataset which needed to be addressed otherwise, it would affect the analysis."
   ]
  },
  {
   "cell_type": "markdown",
   "id": "4a87fcd8",
   "metadata": {},
   "source": [
    "### Data Quality\n",
    "\n",
    "The dataset involves the following 9 columns:\n",
    "* **Date of Accident**: This column contains the dates of each aviation accident, ranging from 1919 to 2023. The dates are not in a standardised format while some are also missing due to the (date unk.) label\n",
    "\n",
    "* **Type**: This column indicates the model of the aircraft that was involved in the accident. This column has no missing values.\n",
    "\n",
    "* **Registration**: This column contains the unique identification code that is usually assigned to each aircraft. It helps identify and track specific aircraft involved in incidents. This column has 1548 missing values.\n",
    "\n",
    "* **Operator**: This column shows the airline that commands that specific aircraft that was involved in the accident.This column has 4 missing values.\n",
    "\n",
    "* **Fatalities**: This column records the count of fatalities associated with each aviation accident. It provides information on the number of fatalities both ground fatality and aircraft fatality. This column contains 3938 missing values. Fatalities stored as strings; requires numeric conversion.\n",
    "\n",
    "* **Location**: This column shows the specific region within the country where each accident occurred. It could include details such as city names, airports. It contains 948 missing values.\n",
    "\n",
    "* **Country**: This column indicates the country where each aviation accident took place. This column has no missing values.\n",
    "\n",
    "* **Accident Category**: This column classify each aviation accident into different categories based on factors such as the cause, nature, or severity of the incident. This column has no missing values. Examples of categories: \n",
    "    * A = Accident\n",
    "\n",
    "    * I = Incident\n",
    "\n",
    "    * H = Hijacking\n",
    "\n",
    "    * C = Criminal occurrence (sabotage, shoot down) O= other occurrence (ground fire, sabotage)\n",
    "\n",
    "    * U = type of occurrence unknown\n",
    "\n",
    "    * 1 = hull-loss\n",
    "\n",
    "    * 2 = repairable damage\n",
    "\n",
    "    * E.g. the A1 category means an Accident resulting in a total loss of the plane.\n",
    "\n",
    "\n",
    "\n",
    "* **Year**: This is a column that includes the extracted year-data from the date column. It has no missing values but has them labelled as 'Unknown'."
   ]
  },
  {
   "cell_type": "code",
   "execution_count": 3,
   "id": "d4c04930",
   "metadata": {},
   "outputs": [
    {
     "name": "stdout",
     "output_type": "stream",
     "text": [
      "<class 'pandas.core.frame.DataFrame'>\n",
      "RangeIndex: 23967 entries, 0 to 23966\n",
      "Data columns (total 9 columns):\n",
      " #   Column        Non-Null Count  Dtype \n",
      "---  ------        --------------  ----- \n",
      " 0   date          23967 non-null  object\n",
      " 1   type          23967 non-null  object\n",
      " 2   registration  22419 non-null  object\n",
      " 3   operator      23963 non-null  object\n",
      " 4   fatalities    20029 non-null  object\n",
      " 5   location      23019 non-null  object\n",
      " 6   country       23967 non-null  object\n",
      " 7   cat           23967 non-null  object\n",
      " 8   year          23967 non-null  object\n",
      "dtypes: object(9)\n",
      "memory usage: 1.6+ MB\n"
     ]
    }
   ],
   "source": [
    "# Displaying summary about the dataset\n",
    "df.info()"
   ]
  },
  {
   "cell_type": "code",
   "execution_count": 4,
   "id": "9759489c",
   "metadata": {},
   "outputs": [
    {
     "data": {
      "text/plain": [
       "date               0\n",
       "type               0\n",
       "registration    1548\n",
       "operator           4\n",
       "fatalities      3938\n",
       "location         948\n",
       "country            0\n",
       "cat                0\n",
       "year               0\n",
       "dtype: int64"
      ]
     },
     "execution_count": 4,
     "metadata": {},
     "output_type": "execute_result"
    }
   ],
   "source": [
    "# Displaying the columns with null values\n",
    "df.isnull().sum()"
   ]
  },
  {
   "cell_type": "markdown",
   "id": "1722da70",
   "metadata": {},
   "source": [
    "## **Data Preparation**"
   ]
  },
  {
   "cell_type": "markdown",
   "id": "7650b80d",
   "metadata": {},
   "source": [
    "Before any meaningful insights can be drawn, the dataset must be free from any significant errors or inconsistencies. As a result, the following data preparation steps were in order:\n"
   ]
  },
  {
   "cell_type": "markdown",
   "id": "1ebd43d8",
   "metadata": {},
   "source": [
    "### 1. Removing Duplicates"
   ]
  },
  {
   "cell_type": "code",
   "execution_count": 5,
   "id": "5651ce9d",
   "metadata": {},
   "outputs": [
    {
     "name": "stdout",
     "output_type": "stream",
     "text": [
      "Number of duplicate rows: 115\n"
     ]
    }
   ],
   "source": [
    "# Checking the number of duplicate rows\n",
    "duplicates = df.duplicated().sum()\n",
    "print(f\"Number of duplicate rows: {duplicates}\")"
   ]
  },
  {
   "cell_type": "code",
   "execution_count": 6,
   "id": "e915e135",
   "metadata": {},
   "outputs": [
    {
     "name": "stdout",
     "output_type": "stream",
     "text": [
      "<class 'pandas.core.frame.DataFrame'>\n",
      "Int64Index: 23852 entries, 0 to 23966\n",
      "Data columns (total 9 columns):\n",
      " #   Column        Non-Null Count  Dtype \n",
      "---  ------        --------------  ----- \n",
      " 0   date          23852 non-null  object\n",
      " 1   type          23852 non-null  object\n",
      " 2   registration  22418 non-null  object\n",
      " 3   operator      23848 non-null  object\n",
      " 4   fatalities    20019 non-null  object\n",
      " 5   location      22920 non-null  object\n",
      " 6   country       23852 non-null  object\n",
      " 7   cat           23852 non-null  object\n",
      " 8   year          23852 non-null  object\n",
      "dtypes: object(9)\n",
      "memory usage: 1.8+ MB\n"
     ]
    }
   ],
   "source": [
    "# Removing duplicate rows\n",
    "df_raw = df.drop_duplicates()\n",
    "df_raw.info()"
   ]
  },
  {
   "cell_type": "markdown",
   "id": "c434e4c7",
   "metadata": {},
   "source": [
    "### 2. Standardizing Inconsistent Formatting"
   ]
  },
  {
   "cell_type": "code",
   "execution_count": 7,
   "id": "64bbf1e0",
   "metadata": {},
   "outputs": [],
   "source": [
    "# Standardizing column names\n",
    "df_raw.columns = df_raw.columns.str.title()"
   ]
  },
  {
   "cell_type": "code",
   "execution_count": 8,
   "id": "ef6ef649",
   "metadata": {},
   "outputs": [
    {
     "name": "stderr",
     "output_type": "stream",
     "text": [
      "c:\\Users\\HP\\anaconda3\\envs\\learn-env\\lib\\site-packages\\pandas\\core\\indexing.py:1783: SettingWithCopyWarning: \n",
      "A value is trying to be set on a copy of a slice from a DataFrame.\n",
      "Try using .loc[row_indexer,col_indexer] = value instead\n",
      "\n",
      "See the caveats in the documentation: https://pandas.pydata.org/pandas-docs/stable/user_guide/indexing.html#returning-a-view-versus-a-copy\n",
      "  self.obj[item_labels[indexer[info_axis]]] = value\n"
     ]
    }
   ],
   "source": [
    "# Removing leading and trailing spaces from the string columns\n",
    "df_raw.loc[:, \"Type\"] = df_raw[\"Type\"].str.strip()\n",
    "df_raw.loc[:, \"Registration\"] = df_raw[\"Registration\"].str.strip()\n",
    "df_raw.loc[:, \"Operator\"] = df_raw[\"Operator\"].str.strip()\n",
    "df_raw.loc[:, \"Location\"] = df_raw[\"Location\"].str.strip()\n",
    "df_raw.loc[:, \"Country\"] = df_raw[\"Country\"].str.strip()    \n",
    "df_raw.loc[:, \"Cat\"] = df_raw[\"Cat\"].str.strip()"
   ]
  },
  {
   "cell_type": "code",
   "execution_count": 9,
   "id": "7801e99b",
   "metadata": {},
   "outputs": [
    {
     "data": {
      "text/html": [
       "<div>\n",
       "<style scoped>\n",
       "    .dataframe tbody tr th:only-of-type {\n",
       "        vertical-align: middle;\n",
       "    }\n",
       "\n",
       "    .dataframe tbody tr th {\n",
       "        vertical-align: top;\n",
       "    }\n",
       "\n",
       "    .dataframe thead th {\n",
       "        text-align: right;\n",
       "    }\n",
       "</style>\n",
       "<table border=\"1\" class=\"dataframe\">\n",
       "  <thead>\n",
       "    <tr style=\"text-align: right;\">\n",
       "      <th></th>\n",
       "      <th>Date</th>\n",
       "      <th>Type</th>\n",
       "      <th>Registration</th>\n",
       "      <th>Operator</th>\n",
       "      <th>Fatalities</th>\n",
       "      <th>Location</th>\n",
       "      <th>Country</th>\n",
       "      <th>Cat</th>\n",
       "      <th>Year</th>\n",
       "    </tr>\n",
       "  </thead>\n",
       "  <tbody>\n",
       "    <tr>\n",
       "      <th>0</th>\n",
       "      <td>date unk.</td>\n",
       "      <td>Antonov An-12B</td>\n",
       "      <td>T-1206</td>\n",
       "      <td>Indonesian AF</td>\n",
       "      <td>NaN</td>\n",
       "      <td>NaN</td>\n",
       "      <td>Unknown country</td>\n",
       "      <td>U1</td>\n",
       "      <td>unknown</td>\n",
       "    </tr>\n",
       "    <tr>\n",
       "      <th>1</th>\n",
       "      <td>date unk.</td>\n",
       "      <td>Antonov An-12B</td>\n",
       "      <td>T-1204</td>\n",
       "      <td>Indonesian AF</td>\n",
       "      <td>NaN</td>\n",
       "      <td>NaN</td>\n",
       "      <td>Unknown country</td>\n",
       "      <td>U1</td>\n",
       "      <td>unknown</td>\n",
       "    </tr>\n",
       "    <tr>\n",
       "      <th>2</th>\n",
       "      <td>date unk.</td>\n",
       "      <td>Antonov An-12B</td>\n",
       "      <td>T-1201</td>\n",
       "      <td>Indonesian AF</td>\n",
       "      <td>NaN</td>\n",
       "      <td>NaN</td>\n",
       "      <td>Unknown country</td>\n",
       "      <td>U1</td>\n",
       "      <td>unknown</td>\n",
       "    </tr>\n",
       "    <tr>\n",
       "      <th>3</th>\n",
       "      <td>date unk.</td>\n",
       "      <td>Antonov An-12BK</td>\n",
       "      <td>NaN</td>\n",
       "      <td>Soviet AF</td>\n",
       "      <td>NaN</td>\n",
       "      <td>Tiksi Airport (IKS)</td>\n",
       "      <td>Russia</td>\n",
       "      <td>A1</td>\n",
       "      <td>unknown</td>\n",
       "    </tr>\n",
       "    <tr>\n",
       "      <th>4</th>\n",
       "      <td>date unk.</td>\n",
       "      <td>Antonov An-12BP</td>\n",
       "      <td>CCCP-11815</td>\n",
       "      <td>Soviet AF</td>\n",
       "      <td>0</td>\n",
       "      <td>Massawa Airport ...</td>\n",
       "      <td>Eritrea</td>\n",
       "      <td>A1</td>\n",
       "      <td>unknown</td>\n",
       "    </tr>\n",
       "    <tr>\n",
       "      <th>5</th>\n",
       "      <td>date unk.</td>\n",
       "      <td>Antonov An-12BP</td>\n",
       "      <td>CCCP-12172</td>\n",
       "      <td>Soviet AF</td>\n",
       "      <td>NaN</td>\n",
       "      <td>NaN</td>\n",
       "      <td>Russia</td>\n",
       "      <td>U1</td>\n",
       "      <td>unknown</td>\n",
       "    </tr>\n",
       "    <tr>\n",
       "      <th>6</th>\n",
       "      <td>date unk.</td>\n",
       "      <td>Antonov An-2</td>\n",
       "      <td>CCCP-N574</td>\n",
       "      <td>GUSMP, Directorate of Polar Aviation</td>\n",
       "      <td>NaN</td>\n",
       "      <td>unknown</td>\n",
       "      <td>Russia</td>\n",
       "      <td>A1</td>\n",
       "      <td>unknown</td>\n",
       "    </tr>\n",
       "    <tr>\n",
       "      <th>7</th>\n",
       "      <td>date unk.</td>\n",
       "      <td>Antonov An-2</td>\n",
       "      <td>CCCP-01216</td>\n",
       "      <td>Aeroflot</td>\n",
       "      <td>0</td>\n",
       "      <td>Chita region</td>\n",
       "      <td>Russia</td>\n",
       "      <td>A2</td>\n",
       "      <td>unknown</td>\n",
       "    </tr>\n",
       "    <tr>\n",
       "      <th>8</th>\n",
       "      <td>date unk.</td>\n",
       "      <td>Antonov An-24B</td>\n",
       "      <td>RA-47794</td>\n",
       "      <td>Russian AF</td>\n",
       "      <td>0</td>\n",
       "      <td>NaN</td>\n",
       "      <td>Russia</td>\n",
       "      <td>A1</td>\n",
       "      <td>unknown</td>\n",
       "    </tr>\n",
       "    <tr>\n",
       "      <th>9</th>\n",
       "      <td>date unk.</td>\n",
       "      <td>Antonov An-26</td>\n",
       "      <td>01 red</td>\n",
       "      <td>Soviet AF</td>\n",
       "      <td>0</td>\n",
       "      <td>Orenburg Air Base</td>\n",
       "      <td>Russia</td>\n",
       "      <td>O1</td>\n",
       "      <td>unknown</td>\n",
       "    </tr>\n",
       "  </tbody>\n",
       "</table>\n",
       "</div>"
      ],
      "text/plain": [
       "        Date             Type Registration  \\\n",
       "0  date unk.   Antonov An-12B       T-1206   \n",
       "1  date unk.   Antonov An-12B       T-1204   \n",
       "2  date unk.   Antonov An-12B       T-1201   \n",
       "3  date unk.  Antonov An-12BK          NaN   \n",
       "4  date unk.  Antonov An-12BP   CCCP-11815   \n",
       "5  date unk.  Antonov An-12BP   CCCP-12172   \n",
       "6  date unk.     Antonov An-2    CCCP-N574   \n",
       "7  date unk.     Antonov An-2   CCCP-01216   \n",
       "8  date unk.   Antonov An-24B     RA-47794   \n",
       "9  date unk.    Antonov An-26       01 red   \n",
       "\n",
       "                               Operator Fatalities             Location  \\\n",
       "0                         Indonesian AF        NaN                  NaN   \n",
       "1                         Indonesian AF        NaN                  NaN   \n",
       "2                         Indonesian AF        NaN                  NaN   \n",
       "3                             Soviet AF        NaN  Tiksi Airport (IKS)   \n",
       "4                             Soviet AF          0  Massawa Airport ...   \n",
       "5                             Soviet AF        NaN                  NaN   \n",
       "6  GUSMP, Directorate of Polar Aviation        NaN              unknown   \n",
       "7                              Aeroflot          0         Chita region   \n",
       "8                            Russian AF          0                  NaN   \n",
       "9                             Soviet AF          0    Orenburg Air Base   \n",
       "\n",
       "           Country Cat     Year  \n",
       "0  Unknown country  U1  unknown  \n",
       "1  Unknown country  U1  unknown  \n",
       "2  Unknown country  U1  unknown  \n",
       "3           Russia  A1  unknown  \n",
       "4          Eritrea  A1  unknown  \n",
       "5           Russia  U1  unknown  \n",
       "6           Russia  A1  unknown  \n",
       "7           Russia  A2  unknown  \n",
       "8           Russia  A1  unknown  \n",
       "9           Russia  O1  unknown  "
      ]
     },
     "execution_count": 9,
     "metadata": {},
     "output_type": "execute_result"
    }
   ],
   "source": [
    "# Checking the current state of the dataset\n",
    "df_raw.head(10)"
   ]
  },
  {
   "cell_type": "markdown",
   "id": "53edca1a",
   "metadata": {},
   "source": [
    "### 3. Changing the Data types "
   ]
  },
  {
   "cell_type": "code",
   "execution_count": 10,
   "id": "3aac44c4",
   "metadata": {},
   "outputs": [
    {
     "data": {
      "text/plain": [
       "Date            object\n",
       "Type            object\n",
       "Registration    object\n",
       "Operator        object\n",
       "Fatalities      object\n",
       "Location        object\n",
       "Country         object\n",
       "Cat             object\n",
       "Year            object\n",
       "dtype: object"
      ]
     },
     "execution_count": 10,
     "metadata": {},
     "output_type": "execute_result"
    }
   ],
   "source": [
    "# Checking the Data types available in the dataset\n",
    "df_raw.dtypes"
   ]
  },
  {
   "cell_type": "markdown",
   "id": "bb42bfe5",
   "metadata": {},
   "source": [
    "From the information in the dataset, the data types are labelled as 'Object' which implies that most of the columns are housing multiple data types. For accurate analysis, it is necessary to have only 1 data type per column."
   ]
  },
  {
   "cell_type": "code",
   "execution_count": 11,
   "id": "b77c4a3b",
   "metadata": {},
   "outputs": [
    {
     "name": "stderr",
     "output_type": "stream",
     "text": [
      "c:\\Users\\HP\\anaconda3\\envs\\learn-env\\lib\\site-packages\\pandas\\core\\indexing.py:1783: SettingWithCopyWarning: \n",
      "A value is trying to be set on a copy of a slice from a DataFrame.\n",
      "Try using .loc[row_indexer,col_indexer] = value instead\n",
      "\n",
      "See the caveats in the documentation: https://pandas.pydata.org/pandas-docs/stable/user_guide/indexing.html#returning-a-view-versus-a-copy\n",
      "  self.obj[item_labels[indexer[info_axis]]] = value\n",
      "c:\\Users\\HP\\anaconda3\\envs\\learn-env\\lib\\site-packages\\pandas\\core\\indexing.py:1745: SettingWithCopyWarning: \n",
      "A value is trying to be set on a copy of a slice from a DataFrame.\n",
      "Try using .loc[row_indexer,col_indexer] = value instead\n",
      "\n",
      "See the caveats in the documentation: https://pandas.pydata.org/pandas-docs/stable/user_guide/indexing.html#returning-a-view-versus-a-copy\n",
      "  isetter(ilocs[0], value)\n"
     ]
    }
   ],
   "source": [
    "# Converting the Columns to respective data types with errors being set to Nan\n",
    "df_raw.loc[:, 'Date'] = pd.to_datetime(df_raw['Date'], errors='coerce') # Date is a date value\n",
    "df_raw.loc[:, 'Type'] = df_raw[\"Type\"].astype('string') # Type is a String \n",
    "df_raw.loc[:, 'Registration'] = df_raw['Registration'].astype(\"string\") # Registration is a String\n",
    "df_raw.loc[:, 'Operator'] = df_raw['Operator'].astype(\"string\") # Operator is a String\n",
    "df_raw.loc[:, 'Fatalities'] = pd.to_numeric(df_raw['Fatalities'], errors=\"coerce\").astype(\"Int64\") # Fatalities is a Number\n",
    "df_raw.loc[:, 'Location'] = df_raw[\"Location\"].astype('string') # Location is a String\n",
    "df_raw.loc[:, 'Country'] = df_raw[\"Country\"].astype('string') # Country is a String\n",
    "df_raw.loc[:, 'Cat'] = df_raw[\"Cat\"].astype('string') # Cat is a String values\n",
    "df_raw.loc[:, 'Year'] = pd.to_numeric(df_raw['Year'], errors=\"coerce\").astype(\"Int64\") # Year is a Number"
   ]
  },
  {
   "cell_type": "code",
   "execution_count": 12,
   "id": "85dc7f71",
   "metadata": {},
   "outputs": [
    {
     "data": {
      "text/plain": [
       "Date            datetime64[ns]\n",
       "Type                    string\n",
       "Registration            string\n",
       "Operator                string\n",
       "Fatalities               Int64\n",
       "Location                string\n",
       "Country                 string\n",
       "Cat                     string\n",
       "Year                     Int64\n",
       "dtype: object"
      ]
     },
     "execution_count": 12,
     "metadata": {},
     "output_type": "execute_result"
    }
   ],
   "source": [
    "# Checking if the data types of the columns have changed\n",
    "df_raw.dtypes\n"
   ]
  },
  {
   "cell_type": "markdown",
   "id": "b6ccb484",
   "metadata": {},
   "source": [
    "### 4. Dealing With Missing Values"
   ]
  },
  {
   "cell_type": "markdown",
   "id": "644e7580",
   "metadata": {},
   "source": [
    "The following fields had missing values:"
   ]
  },
  {
   "cell_type": "code",
   "execution_count": 13,
   "id": "852f6b2c",
   "metadata": {},
   "outputs": [
    {
     "data": {
      "text/plain": [
       "Date             549\n",
       "Type               0\n",
       "Registration    1434\n",
       "Operator           4\n",
       "Fatalities      4186\n",
       "Location         932\n",
       "Country            0\n",
       "Cat                0\n",
       "Year              61\n",
       "dtype: int64"
      ]
     },
     "execution_count": 13,
     "metadata": {},
     "output_type": "execute_result"
    }
   ],
   "source": [
    "df_raw.isna().sum()"
   ]
  },
  {
   "cell_type": "markdown",
   "id": "67692357",
   "metadata": {},
   "source": [
    "From the dataset, I noticed that for every missing year value, the date value was also missing. This consequently means that no detailed analysis can be made from the missing year values. Imputing them would skew the results since the range is very wide, hence decided to remove the null values in the year column."
   ]
  },
  {
   "cell_type": "code",
   "execution_count": 14,
   "id": "5f7673f5",
   "metadata": {},
   "outputs": [
    {
     "data": {
      "text/plain": [
       "Date             488\n",
       "Type               0\n",
       "Registration    1431\n",
       "Operator           4\n",
       "Fatalities      4150\n",
       "Location         904\n",
       "Country            0\n",
       "Cat                0\n",
       "Year               0\n",
       "dtype: int64"
      ]
     },
     "execution_count": 14,
     "metadata": {},
     "output_type": "execute_result"
    }
   ],
   "source": [
    "# Removing null values in the Year column\n",
    "df_raw = df_raw.dropna(subset=['Year'])\n",
    "df_raw.isna().sum()"
   ]
  },
  {
   "cell_type": "markdown",
   "id": "a3719850",
   "metadata": {},
   "source": [
    "I also recognized that even though the 'country' column had no missing values, some of the countries were actually non-existent since some were labelled 'Unknown' while others labelled with '?'. To counter this inconsistency, I decided to change the two to be one consolidated value: 'Unspecified'. Deleting this rows with this values would significantly affect the analysis and reduce the dataset"
   ]
  },
  {
   "cell_type": "code",
   "execution_count": 15,
   "id": "9bdded4f",
   "metadata": {},
   "outputs": [],
   "source": [
    "# Viewing all the countries in the dataset without truncating the output\n",
    "# # with pd.option_context(\"display.max_rows\", None, \n",
    "#                        \"display.max_columns\", None):\n",
    "#     print(pd.DataFrame(df_raw[\"Country\"].unique(), columns=[\"Unique Countries\"]))\n",
    "\n",
    "# Replacing the 2 unique countries (Unknown and ?) with Unspecified\n",
    "df_raw[\"Country\"] = df_raw[\"Country\"].replace({\"Unknown country\": \"Unspecified\", \"?\": \"Unspecified\"})"
   ]
  },
  {
   "cell_type": "markdown",
   "id": "691940b5",
   "metadata": {},
   "source": [
    "As for the Location, I also decided to include it in the analysis with the null values also being recorded as 'Unspecified'"
   ]
  },
  {
   "cell_type": "code",
   "execution_count": 16,
   "id": "d5c6579c",
   "metadata": {},
   "outputs": [
    {
     "data": {
      "text/html": [
       "<div>\n",
       "<style scoped>\n",
       "    .dataframe tbody tr th:only-of-type {\n",
       "        vertical-align: middle;\n",
       "    }\n",
       "\n",
       "    .dataframe tbody tr th {\n",
       "        vertical-align: top;\n",
       "    }\n",
       "\n",
       "    .dataframe thead th {\n",
       "        text-align: right;\n",
       "    }\n",
       "</style>\n",
       "<table border=\"1\" class=\"dataframe\">\n",
       "  <thead>\n",
       "    <tr style=\"text-align: right;\">\n",
       "      <th></th>\n",
       "      <th>Date</th>\n",
       "      <th>Type</th>\n",
       "      <th>Registration</th>\n",
       "      <th>Operator</th>\n",
       "      <th>Fatalities</th>\n",
       "      <th>Location</th>\n",
       "      <th>Country</th>\n",
       "      <th>Cat</th>\n",
       "      <th>Year</th>\n",
       "    </tr>\n",
       "  </thead>\n",
       "  <tbody>\n",
       "    <tr>\n",
       "      <th>61</th>\n",
       "      <td>1919-08-02</td>\n",
       "      <td>Caproni Ca.48</td>\n",
       "      <td>&lt;NA&gt;</td>\n",
       "      <td>Caproni</td>\n",
       "      <td>14</td>\n",
       "      <td>Verona</td>\n",
       "      <td>Italy</td>\n",
       "      <td>A1</td>\n",
       "      <td>1919</td>\n",
       "    </tr>\n",
       "    <tr>\n",
       "      <th>62</th>\n",
       "      <td>1919-08-11</td>\n",
       "      <td>Felixstowe Fury</td>\n",
       "      <td>N123</td>\n",
       "      <td>RAF</td>\n",
       "      <td>1</td>\n",
       "      <td>near Felixtowe RNAS</td>\n",
       "      <td>U.K.</td>\n",
       "      <td>A1</td>\n",
       "      <td>1919</td>\n",
       "    </tr>\n",
       "    <tr>\n",
       "      <th>63</th>\n",
       "      <td>1920-02-23</td>\n",
       "      <td>Handley Page O/7</td>\n",
       "      <td>G-EANV</td>\n",
       "      <td>Handley Page Transport</td>\n",
       "      <td>0</td>\n",
       "      <td>Acadia Siding, C...</td>\n",
       "      <td>South Africa</td>\n",
       "      <td>A1</td>\n",
       "      <td>1920</td>\n",
       "    </tr>\n",
       "    <tr>\n",
       "      <th>64</th>\n",
       "      <td>1920-02-25</td>\n",
       "      <td>Handley Page O/400</td>\n",
       "      <td>G-EAMC</td>\n",
       "      <td>Handley Page Transport</td>\n",
       "      <td>0</td>\n",
       "      <td>near El Shereik</td>\n",
       "      <td>Sudan</td>\n",
       "      <td>A1</td>\n",
       "      <td>1920</td>\n",
       "    </tr>\n",
       "    <tr>\n",
       "      <th>65</th>\n",
       "      <td>1920-06-30</td>\n",
       "      <td>Handley Page O/400</td>\n",
       "      <td>G-EAKE</td>\n",
       "      <td>Handley Page Transport</td>\n",
       "      <td>0</td>\n",
       "      <td>ÃstanÃ¥</td>\n",
       "      <td>Sweden</td>\n",
       "      <td>A1</td>\n",
       "      <td>1920</td>\n",
       "    </tr>\n",
       "    <tr>\n",
       "      <th>...</th>\n",
       "      <td>...</td>\n",
       "      <td>...</td>\n",
       "      <td>...</td>\n",
       "      <td>...</td>\n",
       "      <td>...</td>\n",
       "      <td>...</td>\n",
       "      <td>...</td>\n",
       "      <td>...</td>\n",
       "      <td>...</td>\n",
       "    </tr>\n",
       "    <tr>\n",
       "      <th>23962</th>\n",
       "      <td>2023-05-11</td>\n",
       "      <td>Hawker 900XP</td>\n",
       "      <td>PK-LRU</td>\n",
       "      <td>Angkasa Super Services</td>\n",
       "      <td>0</td>\n",
       "      <td>Maleo Airport (MOH)</td>\n",
       "      <td>Indonesia</td>\n",
       "      <td>A2</td>\n",
       "      <td>2023</td>\n",
       "    </tr>\n",
       "    <tr>\n",
       "      <th>23963</th>\n",
       "      <td>2023-05-11</td>\n",
       "      <td>Cessna 208B Grand Caravan</td>\n",
       "      <td>PK-NGA</td>\n",
       "      <td>Nasional Global Aviasi</td>\n",
       "      <td>0</td>\n",
       "      <td>Fentheik Airstrip</td>\n",
       "      <td>Indonesia</td>\n",
       "      <td>A2</td>\n",
       "      <td>2023</td>\n",
       "    </tr>\n",
       "    <tr>\n",
       "      <th>23964</th>\n",
       "      <td>2023-05-12</td>\n",
       "      <td>Cessna 208B Grand Caravan</td>\n",
       "      <td>5X-RBR</td>\n",
       "      <td>Bar Aviation</td>\n",
       "      <td>0</td>\n",
       "      <td>Kampala-Kajjansi...</td>\n",
       "      <td>Uganda</td>\n",
       "      <td>A1</td>\n",
       "      <td>2023</td>\n",
       "    </tr>\n",
       "    <tr>\n",
       "      <th>23965</th>\n",
       "      <td>2023-05-14</td>\n",
       "      <td>Boeing 747-4R7F</td>\n",
       "      <td>LX-OCV</td>\n",
       "      <td>Cargolux</td>\n",
       "      <td>0</td>\n",
       "      <td>Luxembourg-Finde...</td>\n",
       "      <td>Luxembourg</td>\n",
       "      <td>A2</td>\n",
       "      <td>2023</td>\n",
       "    </tr>\n",
       "    <tr>\n",
       "      <th>23966</th>\n",
       "      <td>2023-05-15</td>\n",
       "      <td>Learjet 35A</td>\n",
       "      <td>D-CGFQ</td>\n",
       "      <td>GFD</td>\n",
       "      <td>2</td>\n",
       "      <td>Hohn Air Base</td>\n",
       "      <td>Germany</td>\n",
       "      <td>A1</td>\n",
       "      <td>2023</td>\n",
       "    </tr>\n",
       "  </tbody>\n",
       "</table>\n",
       "<p>23791 rows × 9 columns</p>\n",
       "</div>"
      ],
      "text/plain": [
       "            Date                       Type Registration  \\\n",
       "61    1919-08-02              Caproni Ca.48         <NA>   \n",
       "62    1919-08-11            Felixstowe Fury         N123   \n",
       "63    1920-02-23           Handley Page O/7       G-EANV   \n",
       "64    1920-02-25         Handley Page O/400       G-EAMC   \n",
       "65    1920-06-30         Handley Page O/400       G-EAKE   \n",
       "...          ...                        ...          ...   \n",
       "23962 2023-05-11               Hawker 900XP       PK-LRU   \n",
       "23963 2023-05-11  Cessna 208B Grand Caravan       PK-NGA   \n",
       "23964 2023-05-12  Cessna 208B Grand Caravan       5X-RBR   \n",
       "23965 2023-05-14            Boeing 747-4R7F       LX-OCV   \n",
       "23966 2023-05-15                Learjet 35A       D-CGFQ   \n",
       "\n",
       "                     Operator  Fatalities             Location       Country  \\\n",
       "61                    Caproni          14               Verona         Italy   \n",
       "62                        RAF           1  near Felixtowe RNAS          U.K.   \n",
       "63     Handley Page Transport           0  Acadia Siding, C...  South Africa   \n",
       "64     Handley Page Transport           0      near El Shereik         Sudan   \n",
       "65     Handley Page Transport           0             ÃstanÃ¥        Sweden   \n",
       "...                       ...         ...                  ...           ...   \n",
       "23962  Angkasa Super Services           0  Maleo Airport (MOH)     Indonesia   \n",
       "23963  Nasional Global Aviasi           0    Fentheik Airstrip     Indonesia   \n",
       "23964            Bar Aviation           0  Kampala-Kajjansi...        Uganda   \n",
       "23965                Cargolux           0  Luxembourg-Finde...    Luxembourg   \n",
       "23966                     GFD           2        Hohn Air Base       Germany   \n",
       "\n",
       "      Cat  Year  \n",
       "61     A1  1919  \n",
       "62     A1  1919  \n",
       "63     A1  1920  \n",
       "64     A1  1920  \n",
       "65     A1  1920  \n",
       "...    ..   ...  \n",
       "23962  A2  2023  \n",
       "23963  A2  2023  \n",
       "23964  A1  2023  \n",
       "23965  A2  2023  \n",
       "23966  A1  2023  \n",
       "\n",
       "[23791 rows x 9 columns]"
      ]
     },
     "execution_count": 16,
     "metadata": {},
     "output_type": "execute_result"
    }
   ],
   "source": [
    "# Viewing the location with missing values without truncating\n",
    "# with pd.option_context(\"display.max_rows\", None, \"display.max_columns\", None):\n",
    "  # display(df_raw[df_raw[\"Location\"].isna()])\n",
    "\n",
    "# Filling the missing values in the Location column with 'Unspecified'\n",
    "df_raw[\"Location\"] = df_raw[\"Location\"].fillna('Unspecified')\n",
    "df_raw"
   ]
  },
  {
   "cell_type": "markdown",
   "id": "311e0bb9",
   "metadata": {},
   "source": [
    "As for the operator, there is no logical manner to impute an operator name. This means that the most logical solution would be to assign the null operator values as 'Unknown' to avoid skewing any of the results during the analysis as a result of an odd operator name that has been imputed"
   ]
  },
  {
   "cell_type": "code",
   "execution_count": 17,
   "id": "87eaa202",
   "metadata": {},
   "outputs": [],
   "source": [
    "# Replacing the null values in the Operator column with 'Unknown'\n",
    "df_raw[\"Operator\"] = df_raw[\"Operator\"].fillna('Unknown')"
   ]
  },
  {
   "cell_type": "markdown",
   "id": "bfc0be8d",
   "metadata": {},
   "source": [
    "The registration column is a unique key which represents each aircraft. Imputing would be difficult because any misjudged error could refer to another aircraft which would lead to misguided insights. As a result, it decided to categorise all null values in the Registration column as 'Undisclosed'"
   ]
  },
  {
   "cell_type": "code",
   "execution_count": 18,
   "id": "4ae51c1a",
   "metadata": {},
   "outputs": [],
   "source": [
    "# Replacing the null values in the Registration column with 'Undisclosed'\n",
    "df_raw[\"Registration\"] = df_raw[\"Registration\"].fillna('Undisclosed')"
   ]
  },
  {
   "cell_type": "code",
   "execution_count": 19,
   "id": "145011ac",
   "metadata": {},
   "outputs": [
    {
     "data": {
      "text/plain": [
       "Date             488\n",
       "Type               0\n",
       "Registration       0\n",
       "Operator           0\n",
       "Fatalities      4150\n",
       "Location           0\n",
       "Country            0\n",
       "Cat                0\n",
       "Year               0\n",
       "dtype: int64"
      ]
     },
     "execution_count": 19,
     "metadata": {},
     "output_type": "execute_result"
    }
   ],
   "source": [
    "# Checking the remaining null values\n",
    "df_raw.isna().sum()"
   ]
  },
  {
   "cell_type": "markdown",
   "id": "4872abee",
   "metadata": {},
   "source": [
    "As for the remaining date values, all the null values have a corresponding year value so deleting them would reduce our accuracy. They are null because only the month and day are missing but the year is included. For accuracy, I will replace those dates with N/A since the rest of the rows contain important information"
   ]
  },
  {
   "cell_type": "code",
   "execution_count": 20,
   "id": "377d7ecb",
   "metadata": {},
   "outputs": [
    {
     "data": {
      "text/html": [
       "<div>\n",
       "<style scoped>\n",
       "    .dataframe tbody tr th:only-of-type {\n",
       "        vertical-align: middle;\n",
       "    }\n",
       "\n",
       "    .dataframe tbody tr th {\n",
       "        vertical-align: top;\n",
       "    }\n",
       "\n",
       "    .dataframe thead th {\n",
       "        text-align: right;\n",
       "    }\n",
       "</style>\n",
       "<table border=\"1\" class=\"dataframe\">\n",
       "  <thead>\n",
       "    <tr style=\"text-align: right;\">\n",
       "      <th></th>\n",
       "      <th>Date</th>\n",
       "      <th>Type</th>\n",
       "      <th>Registration</th>\n",
       "      <th>Operator</th>\n",
       "      <th>Fatalities</th>\n",
       "      <th>Location</th>\n",
       "      <th>Country</th>\n",
       "      <th>Cat</th>\n",
       "      <th>Year</th>\n",
       "    </tr>\n",
       "  </thead>\n",
       "  <tbody>\n",
       "    <tr>\n",
       "      <th>61</th>\n",
       "      <td>1919-08-02 00:00:00</td>\n",
       "      <td>Caproni Ca.48</td>\n",
       "      <td>Undisclosed</td>\n",
       "      <td>Caproni</td>\n",
       "      <td>14</td>\n",
       "      <td>Verona</td>\n",
       "      <td>Italy</td>\n",
       "      <td>A1</td>\n",
       "      <td>1919</td>\n",
       "    </tr>\n",
       "    <tr>\n",
       "      <th>62</th>\n",
       "      <td>1919-08-11 00:00:00</td>\n",
       "      <td>Felixstowe Fury</td>\n",
       "      <td>N123</td>\n",
       "      <td>RAF</td>\n",
       "      <td>1</td>\n",
       "      <td>near Felixtowe RNAS</td>\n",
       "      <td>U.K.</td>\n",
       "      <td>A1</td>\n",
       "      <td>1919</td>\n",
       "    </tr>\n",
       "    <tr>\n",
       "      <th>63</th>\n",
       "      <td>1920-02-23 00:00:00</td>\n",
       "      <td>Handley Page O/7</td>\n",
       "      <td>G-EANV</td>\n",
       "      <td>Handley Page Transport</td>\n",
       "      <td>0</td>\n",
       "      <td>Acadia Siding, C...</td>\n",
       "      <td>South Africa</td>\n",
       "      <td>A1</td>\n",
       "      <td>1920</td>\n",
       "    </tr>\n",
       "    <tr>\n",
       "      <th>64</th>\n",
       "      <td>1920-02-25 00:00:00</td>\n",
       "      <td>Handley Page O/400</td>\n",
       "      <td>G-EAMC</td>\n",
       "      <td>Handley Page Transport</td>\n",
       "      <td>0</td>\n",
       "      <td>near El Shereik</td>\n",
       "      <td>Sudan</td>\n",
       "      <td>A1</td>\n",
       "      <td>1920</td>\n",
       "    </tr>\n",
       "    <tr>\n",
       "      <th>65</th>\n",
       "      <td>1920-06-30 00:00:00</td>\n",
       "      <td>Handley Page O/400</td>\n",
       "      <td>G-EAKE</td>\n",
       "      <td>Handley Page Transport</td>\n",
       "      <td>0</td>\n",
       "      <td>ÃstanÃ¥</td>\n",
       "      <td>Sweden</td>\n",
       "      <td>A1</td>\n",
       "      <td>1920</td>\n",
       "    </tr>\n",
       "    <tr>\n",
       "      <th>...</th>\n",
       "      <td>...</td>\n",
       "      <td>...</td>\n",
       "      <td>...</td>\n",
       "      <td>...</td>\n",
       "      <td>...</td>\n",
       "      <td>...</td>\n",
       "      <td>...</td>\n",
       "      <td>...</td>\n",
       "      <td>...</td>\n",
       "    </tr>\n",
       "    <tr>\n",
       "      <th>23962</th>\n",
       "      <td>2023-05-11 00:00:00</td>\n",
       "      <td>Hawker 900XP</td>\n",
       "      <td>PK-LRU</td>\n",
       "      <td>Angkasa Super Services</td>\n",
       "      <td>0</td>\n",
       "      <td>Maleo Airport (MOH)</td>\n",
       "      <td>Indonesia</td>\n",
       "      <td>A2</td>\n",
       "      <td>2023</td>\n",
       "    </tr>\n",
       "    <tr>\n",
       "      <th>23963</th>\n",
       "      <td>2023-05-11 00:00:00</td>\n",
       "      <td>Cessna 208B Grand Caravan</td>\n",
       "      <td>PK-NGA</td>\n",
       "      <td>Nasional Global Aviasi</td>\n",
       "      <td>0</td>\n",
       "      <td>Fentheik Airstrip</td>\n",
       "      <td>Indonesia</td>\n",
       "      <td>A2</td>\n",
       "      <td>2023</td>\n",
       "    </tr>\n",
       "    <tr>\n",
       "      <th>23964</th>\n",
       "      <td>2023-05-12 00:00:00</td>\n",
       "      <td>Cessna 208B Grand Caravan</td>\n",
       "      <td>5X-RBR</td>\n",
       "      <td>Bar Aviation</td>\n",
       "      <td>0</td>\n",
       "      <td>Kampala-Kajjansi...</td>\n",
       "      <td>Uganda</td>\n",
       "      <td>A1</td>\n",
       "      <td>2023</td>\n",
       "    </tr>\n",
       "    <tr>\n",
       "      <th>23965</th>\n",
       "      <td>2023-05-14 00:00:00</td>\n",
       "      <td>Boeing 747-4R7F</td>\n",
       "      <td>LX-OCV</td>\n",
       "      <td>Cargolux</td>\n",
       "      <td>0</td>\n",
       "      <td>Luxembourg-Finde...</td>\n",
       "      <td>Luxembourg</td>\n",
       "      <td>A2</td>\n",
       "      <td>2023</td>\n",
       "    </tr>\n",
       "    <tr>\n",
       "      <th>23966</th>\n",
       "      <td>2023-05-15 00:00:00</td>\n",
       "      <td>Learjet 35A</td>\n",
       "      <td>D-CGFQ</td>\n",
       "      <td>GFD</td>\n",
       "      <td>2</td>\n",
       "      <td>Hohn Air Base</td>\n",
       "      <td>Germany</td>\n",
       "      <td>A1</td>\n",
       "      <td>2023</td>\n",
       "    </tr>\n",
       "  </tbody>\n",
       "</table>\n",
       "<p>23791 rows × 9 columns</p>\n",
       "</div>"
      ],
      "text/plain": [
       "                      Date                       Type Registration  \\\n",
       "61     1919-08-02 00:00:00              Caproni Ca.48  Undisclosed   \n",
       "62     1919-08-11 00:00:00            Felixstowe Fury         N123   \n",
       "63     1920-02-23 00:00:00           Handley Page O/7       G-EANV   \n",
       "64     1920-02-25 00:00:00         Handley Page O/400       G-EAMC   \n",
       "65     1920-06-30 00:00:00         Handley Page O/400       G-EAKE   \n",
       "...                    ...                        ...          ...   \n",
       "23962  2023-05-11 00:00:00               Hawker 900XP       PK-LRU   \n",
       "23963  2023-05-11 00:00:00  Cessna 208B Grand Caravan       PK-NGA   \n",
       "23964  2023-05-12 00:00:00  Cessna 208B Grand Caravan       5X-RBR   \n",
       "23965  2023-05-14 00:00:00            Boeing 747-4R7F       LX-OCV   \n",
       "23966  2023-05-15 00:00:00                Learjet 35A       D-CGFQ   \n",
       "\n",
       "                     Operator  Fatalities             Location       Country  \\\n",
       "61                    Caproni          14               Verona         Italy   \n",
       "62                        RAF           1  near Felixtowe RNAS          U.K.   \n",
       "63     Handley Page Transport           0  Acadia Siding, C...  South Africa   \n",
       "64     Handley Page Transport           0      near El Shereik         Sudan   \n",
       "65     Handley Page Transport           0             ÃstanÃ¥        Sweden   \n",
       "...                       ...         ...                  ...           ...   \n",
       "23962  Angkasa Super Services           0  Maleo Airport (MOH)     Indonesia   \n",
       "23963  Nasional Global Aviasi           0    Fentheik Airstrip     Indonesia   \n",
       "23964            Bar Aviation           0  Kampala-Kajjansi...        Uganda   \n",
       "23965                Cargolux           0  Luxembourg-Finde...    Luxembourg   \n",
       "23966                     GFD           2        Hohn Air Base       Germany   \n",
       "\n",
       "      Cat  Year  \n",
       "61     A1  1919  \n",
       "62     A1  1919  \n",
       "63     A1  1920  \n",
       "64     A1  1920  \n",
       "65     A1  1920  \n",
       "...    ..   ...  \n",
       "23962  A2  2023  \n",
       "23963  A2  2023  \n",
       "23964  A1  2023  \n",
       "23965  A2  2023  \n",
       "23966  A1  2023  \n",
       "\n",
       "[23791 rows x 9 columns]"
      ]
     },
     "execution_count": 20,
     "metadata": {},
     "output_type": "execute_result"
    }
   ],
   "source": [
    "# Show the dates where the date is null\n",
    "# with pd.option_context(\"display.max_rows\", None, \"display.max_columns\", None):\n",
    "   #display(df_raw[df_raw[\"Date\"].isna()])\n",
    "\n",
    "# Replacing the null values in the Date column with 'N/A'\n",
    "df_raw[\"Date\"] = df_raw[\"Date\"].fillna('N/A')\n",
    "df_raw"
   ]
  },
  {
   "cell_type": "code",
   "execution_count": 21,
   "id": "dd96a40f",
   "metadata": {},
   "outputs": [
    {
     "data": {
      "text/plain": [
       "Date               0\n",
       "Type               0\n",
       "Registration       0\n",
       "Operator           0\n",
       "Fatalities      4150\n",
       "Location           0\n",
       "Country            0\n",
       "Cat                0\n",
       "Year               0\n",
       "dtype: int64"
      ]
     },
     "execution_count": 21,
     "metadata": {},
     "output_type": "execute_result"
    }
   ],
   "source": [
    "# Checking the remaining null values\n",
    "df_raw.isna().sum()"
   ]
  },
  {
   "cell_type": "markdown",
   "id": "bafa5918",
   "metadata": {},
   "source": [
    "As for the fatalities, I have decided to replace the missing values with the mode instead of the mean. This is because if I decided to use the mean, presence of any outliers that can be due to fatal accidents would affect the value of my analysis. As a result. I replace the missing values with the mode of the fatalities column."
   ]
  },
  {
   "cell_type": "code",
   "execution_count": 22,
   "id": "0a3634d3",
   "metadata": {},
   "outputs": [
    {
     "data": {
      "text/plain": [
       "Date            0\n",
       "Type            0\n",
       "Registration    0\n",
       "Operator        0\n",
       "Fatalities      0\n",
       "Location        0\n",
       "Country         0\n",
       "Cat             0\n",
       "Year            0\n",
       "dtype: int64"
      ]
     },
     "execution_count": 22,
     "metadata": {},
     "output_type": "execute_result"
    }
   ],
   "source": [
    "# Replacing the null values in the fatalities column with the mode\n",
    "mode_fatalities = df_raw['Fatalities'].mode()[0]\n",
    "df_raw['Fatalities'] = df_raw['Fatalities'].fillna(mode_fatalities)\n",
    "df_raw.isna().sum()\n"
   ]
  },
  {
   "cell_type": "code",
   "execution_count": 23,
   "id": "bb62a018",
   "metadata": {},
   "outputs": [
    {
     "data": {
      "text/html": [
       "<div>\n",
       "<style scoped>\n",
       "    .dataframe tbody tr th:only-of-type {\n",
       "        vertical-align: middle;\n",
       "    }\n",
       "\n",
       "    .dataframe tbody tr th {\n",
       "        vertical-align: top;\n",
       "    }\n",
       "\n",
       "    .dataframe thead th {\n",
       "        text-align: right;\n",
       "    }\n",
       "</style>\n",
       "<table border=\"1\" class=\"dataframe\">\n",
       "  <thead>\n",
       "    <tr style=\"text-align: right;\">\n",
       "      <th></th>\n",
       "      <th>Date</th>\n",
       "      <th>Type</th>\n",
       "      <th>Registration</th>\n",
       "      <th>Operator</th>\n",
       "      <th>Fatalities</th>\n",
       "      <th>Location</th>\n",
       "      <th>Country</th>\n",
       "      <th>Cat</th>\n",
       "      <th>Year</th>\n",
       "    </tr>\n",
       "  </thead>\n",
       "  <tbody>\n",
       "    <tr>\n",
       "      <th>61</th>\n",
       "      <td>1919-08-02 00:00:00</td>\n",
       "      <td>Caproni Ca.48</td>\n",
       "      <td>Undisclosed</td>\n",
       "      <td>Caproni</td>\n",
       "      <td>14</td>\n",
       "      <td>Verona</td>\n",
       "      <td>Italy</td>\n",
       "      <td>A1</td>\n",
       "      <td>1919</td>\n",
       "    </tr>\n",
       "    <tr>\n",
       "      <th>62</th>\n",
       "      <td>1919-08-11 00:00:00</td>\n",
       "      <td>Felixstowe Fury</td>\n",
       "      <td>N123</td>\n",
       "      <td>RAF</td>\n",
       "      <td>1</td>\n",
       "      <td>near Felixtowe RNAS</td>\n",
       "      <td>U.K.</td>\n",
       "      <td>A1</td>\n",
       "      <td>1919</td>\n",
       "    </tr>\n",
       "    <tr>\n",
       "      <th>63</th>\n",
       "      <td>1920-02-23 00:00:00</td>\n",
       "      <td>Handley Page O/7</td>\n",
       "      <td>G-EANV</td>\n",
       "      <td>Handley Page Transport</td>\n",
       "      <td>0</td>\n",
       "      <td>Acadia Siding, C...</td>\n",
       "      <td>South Africa</td>\n",
       "      <td>A1</td>\n",
       "      <td>1920</td>\n",
       "    </tr>\n",
       "    <tr>\n",
       "      <th>64</th>\n",
       "      <td>1920-02-25 00:00:00</td>\n",
       "      <td>Handley Page O/400</td>\n",
       "      <td>G-EAMC</td>\n",
       "      <td>Handley Page Transport</td>\n",
       "      <td>0</td>\n",
       "      <td>near El Shereik</td>\n",
       "      <td>Sudan</td>\n",
       "      <td>A1</td>\n",
       "      <td>1920</td>\n",
       "    </tr>\n",
       "    <tr>\n",
       "      <th>65</th>\n",
       "      <td>1920-06-30 00:00:00</td>\n",
       "      <td>Handley Page O/400</td>\n",
       "      <td>G-EAKE</td>\n",
       "      <td>Handley Page Transport</td>\n",
       "      <td>0</td>\n",
       "      <td>ÃstanÃ¥</td>\n",
       "      <td>Sweden</td>\n",
       "      <td>A1</td>\n",
       "      <td>1920</td>\n",
       "    </tr>\n",
       "    <tr>\n",
       "      <th>66</th>\n",
       "      <td>1920-12-14 00:00:00</td>\n",
       "      <td>Handley Page O/400</td>\n",
       "      <td>G-EAMA</td>\n",
       "      <td>Handley Page Transport</td>\n",
       "      <td>4</td>\n",
       "      <td>Golders Green</td>\n",
       "      <td>U.K.</td>\n",
       "      <td>A1</td>\n",
       "      <td>1920</td>\n",
       "    </tr>\n",
       "    <tr>\n",
       "      <th>67</th>\n",
       "      <td>1921-01-15 00:00:00</td>\n",
       "      <td>Aeromarine 75</td>\n",
       "      <td>Undisclosed</td>\n",
       "      <td>Aeromarine Airways</td>\n",
       "      <td>0</td>\n",
       "      <td>Havana harbour</td>\n",
       "      <td>Cuba</td>\n",
       "      <td>O1</td>\n",
       "      <td>1921</td>\n",
       "    </tr>\n",
       "    <tr>\n",
       "      <th>68</th>\n",
       "      <td>1921-03-02 00:00:00</td>\n",
       "      <td>Handley Page O/7</td>\n",
       "      <td>G-IAAC</td>\n",
       "      <td>HP Indo-Burmese Transport</td>\n",
       "      <td>0</td>\n",
       "      <td>Meerut</td>\n",
       "      <td>India</td>\n",
       "      <td>O1</td>\n",
       "      <td>1921</td>\n",
       "    </tr>\n",
       "    <tr>\n",
       "      <th>69</th>\n",
       "      <td>1921-03-04 00:00:00</td>\n",
       "      <td>Caproni Ca.60 Noviplano</td>\n",
       "      <td>Undisclosed</td>\n",
       "      <td>Caproni</td>\n",
       "      <td>0</td>\n",
       "      <td>Lago Maggiore</td>\n",
       "      <td>Italy</td>\n",
       "      <td>A1</td>\n",
       "      <td>1921</td>\n",
       "    </tr>\n",
       "    <tr>\n",
       "      <th>70</th>\n",
       "      <td>1921-08-26 00:00:00</td>\n",
       "      <td>Farman F.60 Goliath</td>\n",
       "      <td>O-BLAN</td>\n",
       "      <td>SNETA</td>\n",
       "      <td>2</td>\n",
       "      <td>near Calais [The Engl...</td>\n",
       "      <td>France</td>\n",
       "      <td>A1</td>\n",
       "      <td>1921</td>\n",
       "    </tr>\n",
       "    <tr>\n",
       "      <th>71</th>\n",
       "      <td>1921-09-27 00:00:00</td>\n",
       "      <td>Farman F.60 Goliath</td>\n",
       "      <td>O-BRUN</td>\n",
       "      <td>SNETA</td>\n",
       "      <td>0</td>\n",
       "      <td>Evere Airfield</td>\n",
       "      <td>Belgium</td>\n",
       "      <td>O1</td>\n",
       "      <td>1921</td>\n",
       "    </tr>\n",
       "    <tr>\n",
       "      <th>72</th>\n",
       "      <td>1921-09-27 00:00:00</td>\n",
       "      <td>Farman F.60 Goliath</td>\n",
       "      <td>O-BLEU</td>\n",
       "      <td>SNETA</td>\n",
       "      <td>0</td>\n",
       "      <td>Evere Airfield</td>\n",
       "      <td>Belgium</td>\n",
       "      <td>O1</td>\n",
       "      <td>1921</td>\n",
       "    </tr>\n",
       "    <tr>\n",
       "      <th>73</th>\n",
       "      <td>1921-12-30 00:00:00</td>\n",
       "      <td>Handley Page O/10</td>\n",
       "      <td>G-EATM</td>\n",
       "      <td>Handley Page Transport</td>\n",
       "      <td>0</td>\n",
       "      <td>Berck-sur-Mer</td>\n",
       "      <td>France</td>\n",
       "      <td>U1</td>\n",
       "      <td>1921</td>\n",
       "    </tr>\n",
       "    <tr>\n",
       "      <th>74</th>\n",
       "      <td>1922-01-22 00:00:00</td>\n",
       "      <td>Handley Page O/10</td>\n",
       "      <td>G-EATN</td>\n",
       "      <td>Handley Page Transport</td>\n",
       "      <td>0</td>\n",
       "      <td>near Senlis</td>\n",
       "      <td>France</td>\n",
       "      <td>A1</td>\n",
       "      <td>1922</td>\n",
       "    </tr>\n",
       "    <tr>\n",
       "      <th>75</th>\n",
       "      <td>1922-03-31 00:00:00</td>\n",
       "      <td>Handley Page O/7</td>\n",
       "      <td>Undisclosed</td>\n",
       "      <td>Chinese Government</td>\n",
       "      <td>14</td>\n",
       "      <td>near Beijing-Nanyuan ...</td>\n",
       "      <td>China</td>\n",
       "      <td>A1</td>\n",
       "      <td>1922</td>\n",
       "    </tr>\n",
       "    <tr>\n",
       "      <th>76</th>\n",
       "      <td>1922-04-07 00:00:00</td>\n",
       "      <td>Farman F.60 Goliath</td>\n",
       "      <td>F-GEAD</td>\n",
       "      <td>Grands Express AÃ©riens</td>\n",
       "      <td>5</td>\n",
       "      <td>Thieuloy-Saint-A...</td>\n",
       "      <td>France</td>\n",
       "      <td>A1</td>\n",
       "      <td>1922</td>\n",
       "    </tr>\n",
       "    <tr>\n",
       "      <th>77</th>\n",
       "      <td>1923-01-13 00:00:00</td>\n",
       "      <td>Aeromarine 75</td>\n",
       "      <td>Undisclosed</td>\n",
       "      <td>Aeromarine Airways</td>\n",
       "      <td>4</td>\n",
       "      <td>near Havana, Cuba</td>\n",
       "      <td>Atlantic Ocean</td>\n",
       "      <td>A1</td>\n",
       "      <td>1923</td>\n",
       "    </tr>\n",
       "    <tr>\n",
       "      <th>78</th>\n",
       "      <td>1923-05-14 00:00:00</td>\n",
       "      <td>Farman F.60 Goliath</td>\n",
       "      <td>F-AEBY</td>\n",
       "      <td>Air Union</td>\n",
       "      <td>6</td>\n",
       "      <td>Monsures, Somme</td>\n",
       "      <td>France</td>\n",
       "      <td>A1</td>\n",
       "      <td>1923</td>\n",
       "    </tr>\n",
       "    <tr>\n",
       "      <th>79</th>\n",
       "      <td>1923-06-25 00:00:00</td>\n",
       "      <td>Farman F.60 Goliath</td>\n",
       "      <td>F-AEDL</td>\n",
       "      <td>Air Union</td>\n",
       "      <td>0</td>\n",
       "      <td>near Ãtaples</td>\n",
       "      <td>France</td>\n",
       "      <td>A1</td>\n",
       "      <td>1923</td>\n",
       "    </tr>\n",
       "    <tr>\n",
       "      <th>80</th>\n",
       "      <td>1923-07-10 00:00:00</td>\n",
       "      <td>Handley Page W.8</td>\n",
       "      <td>G-EAPJ</td>\n",
       "      <td>Handley Page Transport</td>\n",
       "      <td>0</td>\n",
       "      <td>Poix</td>\n",
       "      <td>France</td>\n",
       "      <td>A1</td>\n",
       "      <td>1923</td>\n",
       "    </tr>\n",
       "  </tbody>\n",
       "</table>\n",
       "</div>"
      ],
      "text/plain": [
       "                   Date                     Type Registration  \\\n",
       "61  1919-08-02 00:00:00            Caproni Ca.48  Undisclosed   \n",
       "62  1919-08-11 00:00:00          Felixstowe Fury         N123   \n",
       "63  1920-02-23 00:00:00         Handley Page O/7       G-EANV   \n",
       "64  1920-02-25 00:00:00       Handley Page O/400       G-EAMC   \n",
       "65  1920-06-30 00:00:00       Handley Page O/400       G-EAKE   \n",
       "66  1920-12-14 00:00:00       Handley Page O/400       G-EAMA   \n",
       "67  1921-01-15 00:00:00            Aeromarine 75  Undisclosed   \n",
       "68  1921-03-02 00:00:00         Handley Page O/7       G-IAAC   \n",
       "69  1921-03-04 00:00:00  Caproni Ca.60 Noviplano  Undisclosed   \n",
       "70  1921-08-26 00:00:00      Farman F.60 Goliath       O-BLAN   \n",
       "71  1921-09-27 00:00:00      Farman F.60 Goliath       O-BRUN   \n",
       "72  1921-09-27 00:00:00      Farman F.60 Goliath       O-BLEU   \n",
       "73  1921-12-30 00:00:00        Handley Page O/10       G-EATM   \n",
       "74  1922-01-22 00:00:00        Handley Page O/10       G-EATN   \n",
       "75  1922-03-31 00:00:00         Handley Page O/7  Undisclosed   \n",
       "76  1922-04-07 00:00:00      Farman F.60 Goliath       F-GEAD   \n",
       "77  1923-01-13 00:00:00            Aeromarine 75  Undisclosed   \n",
       "78  1923-05-14 00:00:00      Farman F.60 Goliath       F-AEBY   \n",
       "79  1923-06-25 00:00:00      Farman F.60 Goliath       F-AEDL   \n",
       "80  1923-07-10 00:00:00         Handley Page W.8       G-EAPJ   \n",
       "\n",
       "                     Operator  Fatalities                  Location  \\\n",
       "61                    Caproni          14                    Verona   \n",
       "62                        RAF           1       near Felixtowe RNAS   \n",
       "63     Handley Page Transport           0       Acadia Siding, C...   \n",
       "64     Handley Page Transport           0           near El Shereik   \n",
       "65     Handley Page Transport           0                  ÃstanÃ¥   \n",
       "66     Handley Page Transport           4             Golders Green   \n",
       "67         Aeromarine Airways           0            Havana harbour   \n",
       "68  HP Indo-Burmese Transport           0                    Meerut   \n",
       "69                    Caproni           0             Lago Maggiore   \n",
       "70                      SNETA           2  near Calais [The Engl...   \n",
       "71                      SNETA           0            Evere Airfield   \n",
       "72                      SNETA           0            Evere Airfield   \n",
       "73     Handley Page Transport           0             Berck-sur-Mer   \n",
       "74     Handley Page Transport           0               near Senlis   \n",
       "75         Chinese Government          14  near Beijing-Nanyuan ...   \n",
       "76    Grands Express AÃ©riens           5       Thieuloy-Saint-A...   \n",
       "77         Aeromarine Airways           4         near Havana, Cuba   \n",
       "78                  Air Union           6           Monsures, Somme   \n",
       "79                  Air Union           0             near Ãtaples   \n",
       "80     Handley Page Transport           0                      Poix   \n",
       "\n",
       "           Country Cat  Year  \n",
       "61           Italy  A1  1919  \n",
       "62            U.K.  A1  1919  \n",
       "63    South Africa  A1  1920  \n",
       "64           Sudan  A1  1920  \n",
       "65          Sweden  A1  1920  \n",
       "66            U.K.  A1  1920  \n",
       "67            Cuba  O1  1921  \n",
       "68           India  O1  1921  \n",
       "69           Italy  A1  1921  \n",
       "70          France  A1  1921  \n",
       "71         Belgium  O1  1921  \n",
       "72         Belgium  O1  1921  \n",
       "73          France  U1  1921  \n",
       "74          France  A1  1922  \n",
       "75           China  A1  1922  \n",
       "76          France  A1  1922  \n",
       "77  Atlantic Ocean  A1  1923  \n",
       "78          France  A1  1923  \n",
       "79          France  A1  1923  \n",
       "80          France  A1  1923  "
      ]
     },
     "execution_count": 23,
     "metadata": {},
     "output_type": "execute_result"
    }
   ],
   "source": [
    "# The dataset is now clean and ready for analysis\n",
    "df_raw.head(20)"
   ]
  },
  {
   "cell_type": "code",
   "execution_count": 24,
   "id": "78d804a4",
   "metadata": {},
   "outputs": [],
   "source": [
    "# Saving the cleaned dataset as a new CSV file\n",
    "df_clean = df_raw.to_csv('Data/aviation-accident-data-cleaned.csv', index=False)"
   ]
  },
  {
   "cell_type": "markdown",
   "id": "b65dce69",
   "metadata": {},
   "source": [
    "## **Data Analysis**"
   ]
  },
  {
   "cell_type": "code",
   "execution_count": 25,
   "id": "5318e4fa",
   "metadata": {},
   "outputs": [],
   "source": [
    "# Importing the necessary libraries for analysis and visualization\n",
    "import pandas as pd\n",
    "import matplotlib.pyplot as plt\n",
    "import seaborn as sns\n",
    "%matplotlib inline  "
   ]
  },
  {
   "cell_type": "markdown",
   "id": "31453ba8",
   "metadata": {},
   "source": [
    "By analyzing the cleaned accident data, this will allow me to provide accurate and valuable insights from underlying trends and patterns. "
   ]
  },
  {
   "cell_type": "code",
   "execution_count": 26,
   "id": "32f2b111",
   "metadata": {},
   "outputs": [
    {
     "data": {
      "text/html": [
       "<div>\n",
       "<style scoped>\n",
       "    .dataframe tbody tr th:only-of-type {\n",
       "        vertical-align: middle;\n",
       "    }\n",
       "\n",
       "    .dataframe tbody tr th {\n",
       "        vertical-align: top;\n",
       "    }\n",
       "\n",
       "    .dataframe thead th {\n",
       "        text-align: right;\n",
       "    }\n",
       "</style>\n",
       "<table border=\"1\" class=\"dataframe\">\n",
       "  <thead>\n",
       "    <tr style=\"text-align: right;\">\n",
       "      <th></th>\n",
       "      <th>Fatalities</th>\n",
       "      <th>Year</th>\n",
       "    </tr>\n",
       "  </thead>\n",
       "  <tbody>\n",
       "    <tr>\n",
       "      <th>count</th>\n",
       "      <td>23791.000000</td>\n",
       "      <td>23791.000000</td>\n",
       "    </tr>\n",
       "    <tr>\n",
       "      <th>mean</th>\n",
       "      <td>5.074146</td>\n",
       "      <td>1973.972048</td>\n",
       "    </tr>\n",
       "    <tr>\n",
       "      <th>std</th>\n",
       "      <td>17.151217</td>\n",
       "      <td>25.352027</td>\n",
       "    </tr>\n",
       "    <tr>\n",
       "      <th>min</th>\n",
       "      <td>0.000000</td>\n",
       "      <td>1919.000000</td>\n",
       "    </tr>\n",
       "    <tr>\n",
       "      <th>25%</th>\n",
       "      <td>0.000000</td>\n",
       "      <td>1948.000000</td>\n",
       "    </tr>\n",
       "    <tr>\n",
       "      <th>50%</th>\n",
       "      <td>0.000000</td>\n",
       "      <td>1972.000000</td>\n",
       "    </tr>\n",
       "    <tr>\n",
       "      <th>75%</th>\n",
       "      <td>3.000000</td>\n",
       "      <td>1995.000000</td>\n",
       "    </tr>\n",
       "    <tr>\n",
       "      <th>max</th>\n",
       "      <td>520.000000</td>\n",
       "      <td>2023.000000</td>\n",
       "    </tr>\n",
       "  </tbody>\n",
       "</table>\n",
       "</div>"
      ],
      "text/plain": [
       "         Fatalities          Year\n",
       "count  23791.000000  23791.000000\n",
       "mean       5.074146   1973.972048\n",
       "std       17.151217     25.352027\n",
       "min        0.000000   1919.000000\n",
       "25%        0.000000   1948.000000\n",
       "50%        0.000000   1972.000000\n",
       "75%        3.000000   1995.000000\n",
       "max      520.000000   2023.000000"
      ]
     },
     "execution_count": 26,
     "metadata": {},
     "output_type": "execute_result"
    }
   ],
   "source": [
    "# Identifying the descriptive statistics of the numerical columns\n",
    "df_clean = pd.read_csv('Data/aviation-accident-data-cleaned.csv')\n",
    "df_clean.describe()"
   ]
  },
  {
   "cell_type": "markdown",
   "id": "9f364b67",
   "metadata": {},
   "source": [
    "Over the more than 100-years period, there were 23791 fatalities. This means that on average there were about 5 fatalities involved in each accident. The highest fatality accident involved 520 lives which is a very high number. Given the number of flights taken worldwide per day, the ratio is low but it still warrants a thorough analysis on the happennings"
   ]
  },
  {
   "cell_type": "markdown",
   "id": "309576e0",
   "metadata": {},
   "source": [
    "### **Trends over time**"
   ]
  },
  {
   "cell_type": "markdown",
   "id": "fd590353",
   "metadata": {},
   "source": [
    "* Accidents over time"
   ]
  },
  {
   "cell_type": "code",
   "execution_count": 27,
   "id": "a675467d",
   "metadata": {},
   "outputs": [
    {
     "data": {
      "image/png": "[encoded data removed]",
      "text/plain": [
       "<Figure size 864x432 with 1 Axes>"
      ]
     },
     "metadata": {
      "needs_background": "light"
     },
     "output_type": "display_data"
    }
   ],
   "source": [
    "accidents_per_year = df_clean['Year'].value_counts().sort_index()\n",
    "x_accidents = accidents_per_year.index  # sorted years\n",
    "y_accidents = accidents_per_year.values  # counts\n",
    "\n",
    "plt.figure(figsize=(12, 6)) # Setting the figure size\n",
    "\n",
    "# A line graph showing the number of accidents over the years\n",
    "plt.plot(x_accidents, y_accidents, label=\"Accidents over time\", color=\"blue\")\n",
    "\n",
    "# Adding labels and title\n",
    "plt.xlabel(\"Years\")\n",
    "plt.ylabel(\"Number of Accidents\")\n",
    "plt.title(\"Line Graph of Accidents Over Time\")\n",
    "plt.legend()\n",
    "\n",
    "# Display the graph\n",
    "plt.show()"
   ]
  },
  {
   "cell_type": "markdown",
   "id": "890b99e1",
   "metadata": {},
   "source": [
    "The number of aircraft accidents has relatively been decreasing over the entire time period. However, there is a notable spike during the 1940s to 1950s which can effectively be attributed to the world war II where most aircrafts at that time were involved in the war. The decrease in accidents can also be attributed to development of better technologies over time hence aircraft are less prone to accidents. "
   ]
  },
  {
   "cell_type": "markdown",
   "id": "6f29cb50",
   "metadata": {},
   "source": [
    "* Fatalities over time"
   ]
  },
  {
   "cell_type": "code",
   "execution_count": 28,
   "id": "9363dd48",
   "metadata": {},
   "outputs": [
    {
     "data": {
      "image/png": "[encoded data removed]",
      "text/plain": [
       "<Figure size 864x432 with 1 Axes>"
      ]
     },
     "metadata": {
      "needs_background": "light"
     },
     "output_type": "display_data"
    }
   ],
   "source": [
    "# Group by year and sum the fatalities\n",
    "fatalities_per_year = df_clean.groupby(\"Year\")[\"Fatalities\"].sum()\n",
    "\n",
    "# Defining the x and y values\n",
    "x_fatal = fatalities_per_year.index\n",
    "y_fatal = fatalities_per_year.values\n",
    "\n",
    "plt.figure(figsize=(12, 6)) # Setting the figure size\n",
    "\n",
    "# Plot line graph\n",
    "plt.plot(x_fatal, y_fatal, label=\"Fatalities over time\", color=\"red\")\n",
    "\n",
    "# Add labels and title\n",
    "plt.xlabel(\"Years\")\n",
    "plt.ylabel(\"Number of Fatalities\")\n",
    "plt.title(\"Line Graph of Fatalities Over Time\")\n",
    "plt.legend()\n",
    "\n",
    "# Display the graph\n",
    "plt.show()"
   ]
  },
  {
   "cell_type": "markdown",
   "id": "9bfcb156",
   "metadata": {},
   "source": [
    "The number of fatalities has also been reducing over time. The spike between 1940 and 1950 can be attributed to the world war whereby there were a lot of casualties. Overally, there is a downward trend due to less accidents that have been happenning hence less fatalities. Newer technologies and safety standards have undoubtedly led to this decreasing trend."
   ]
  },
  {
   "cell_type": "markdown",
   "id": "a79eeda8",
   "metadata": {},
   "source": [
    "* Severity of Each accident"
   ]
  },
  {
   "cell_type": "code",
   "execution_count": 29,
   "id": "fe89d92a",
   "metadata": {},
   "outputs": [
    {
     "data": {
      "image/png": "[encoded data removed]",
      "text/plain": [
       "<Figure size 720x432 with 1 Axes>"
      ]
     },
     "metadata": {
      "needs_background": "light"
     },
     "output_type": "display_data"
    }
   ],
   "source": [
    "plt.figure(figsize=(10,6)) # Setting the figure size\n",
    "\n",
    "plt.plot(x_accidents, y_accidents, label=\"Accidents\")\n",
    "plt.plot(x_fatal, y_fatal, label=\"Fatalities\")\n",
    "\n",
    "plt.title(\"Accidents vs Fatalities per Year\")\n",
    "plt.xlabel(\"Year\")\n",
    "plt.ylabel(\"Total Count\")\n",
    "plt.legend()\n",
    "plt.grid(True)\n",
    "plt.show()"
   ]
  },
  {
   "cell_type": "markdown",
   "id": "3f016cd9",
   "metadata": {},
   "source": [
    "The more the number of accidents, the higher the number of fatalities. Also worth noting is that a single accident leads to a lot of fatalities hence meaning that the accidents are mostly commercial because they have more carrying capacity. Thus, for the company to consider investing in an aircraft, it is worth noting that as much as the accidents occurrence is low for commercial planes, the fatalities are high which might be costly in the event due to circumstances like insurance payoff. This however, doesn't rule out investing in commercial planes."
   ]
  },
  {
   "cell_type": "markdown",
   "id": "8c352e02",
   "metadata": {},
   "source": [
    "### **Aircraft Risk Profiling**\n"
   ]
  },
  {
   "cell_type": "markdown",
   "id": "d0d96034",
   "metadata": {},
   "source": [
    "* Top aircraft models by least accidents count"
   ]
  },
  {
   "cell_type": "code",
   "execution_count": 30,
   "id": "3269d1cc",
   "metadata": {},
   "outputs": [
    {
     "data": {
      "text/html": [
       "<div>\n",
       "<style scoped>\n",
       "    .dataframe tbody tr th:only-of-type {\n",
       "        vertical-align: middle;\n",
       "    }\n",
       "\n",
       "    .dataframe tbody tr th {\n",
       "        vertical-align: top;\n",
       "    }\n",
       "\n",
       "    .dataframe thead th {\n",
       "        text-align: right;\n",
       "    }\n",
       "</style>\n",
       "<table border=\"1\" class=\"dataframe\">\n",
       "  <thead>\n",
       "    <tr style=\"text-align: right;\">\n",
       "      <th></th>\n",
       "      <th>Aircraft Model</th>\n",
       "      <th>Accident Count</th>\n",
       "    </tr>\n",
       "  </thead>\n",
       "  <tbody>\n",
       "    <tr>\n",
       "      <th>3196</th>\n",
       "      <td>Boeing 720-051B</td>\n",
       "      <td>1</td>\n",
       "    </tr>\n",
       "    <tr>\n",
       "      <th>2216</th>\n",
       "      <td>Boeing 717-2K9</td>\n",
       "      <td>1</td>\n",
       "    </tr>\n",
       "    <tr>\n",
       "      <th>2217</th>\n",
       "      <td>Boeing 737-9B5</td>\n",
       "      <td>1</td>\n",
       "    </tr>\n",
       "    <tr>\n",
       "      <th>2218</th>\n",
       "      <td>EO-5C (DHC-7-102)</td>\n",
       "      <td>1</td>\n",
       "    </tr>\n",
       "    <tr>\n",
       "      <th>2219</th>\n",
       "      <td>Boeing 777-266ER</td>\n",
       "      <td>1</td>\n",
       "    </tr>\n",
       "    <tr>\n",
       "      <th>...</th>\n",
       "      <td>...</td>\n",
       "      <td>...</td>\n",
       "    </tr>\n",
       "    <tr>\n",
       "      <th>4</th>\n",
       "      <td>Antonov An-2R</td>\n",
       "      <td>389</td>\n",
       "    </tr>\n",
       "    <tr>\n",
       "      <th>3</th>\n",
       "      <td>Curtiss C-46A</td>\n",
       "      <td>564</td>\n",
       "    </tr>\n",
       "    <tr>\n",
       "      <th>2</th>\n",
       "      <td>Douglas C-47B (DC-3)</td>\n",
       "      <td>592</td>\n",
       "    </tr>\n",
       "    <tr>\n",
       "      <th>1</th>\n",
       "      <td>Douglas C-47 (DC-3)</td>\n",
       "      <td>668</td>\n",
       "    </tr>\n",
       "    <tr>\n",
       "      <th>0</th>\n",
       "      <td>Douglas C-47A (DC-3)</td>\n",
       "      <td>1915</td>\n",
       "    </tr>\n",
       "  </tbody>\n",
       "</table>\n",
       "<p>3197 rows × 2 columns</p>\n",
       "</div>"
      ],
      "text/plain": [
       "            Aircraft Model  Accident Count\n",
       "3196       Boeing 720-051B               1\n",
       "2216        Boeing 717-2K9               1\n",
       "2217        Boeing 737-9B5               1\n",
       "2218     EO-5C (DHC-7-102)               1\n",
       "2219      Boeing 777-266ER               1\n",
       "...                    ...             ...\n",
       "4            Antonov An-2R             389\n",
       "3            Curtiss C-46A             564\n",
       "2     Douglas C-47B (DC-3)             592\n",
       "1      Douglas C-47 (DC-3)             668\n",
       "0     Douglas C-47A (DC-3)            1915\n",
       "\n",
       "[3197 rows x 2 columns]"
      ]
     },
     "execution_count": 30,
     "metadata": {},
     "output_type": "execute_result"
    }
   ],
   "source": [
    "# Top aircraft models by accident count\n",
    "top_aircraft_models = df_clean['Type'].value_counts()\n",
    "top_aircraft_models_df = top_aircraft_models.reset_index()\n",
    "top_aircraft_models_df.columns = ['Aircraft Model', 'Accident Count']\n",
    "top_aircraft_models_df = top_aircraft_models_df.sort_values(by=\"Accident Count\", ascending=True)\n",
    "top_aircraft_models_df\n"
   ]
  },
  {
   "cell_type": "markdown",
   "id": "4436d964",
   "metadata": {},
   "source": [
    "The above are the best aircrafts to invest in based on the number of accidents that they are prone to. The list is large and involves only aircrafts type that have been involved in accidents over the 100-year period but does not consider those that are not involved. This shows that venturing into this industry can be worthwhile especially during the last decade very few accidents are occurring. And for those that are occurring, it could be necessarily attributed to other external factors such as operators, weather conditions, location e.t.c and not on the aircraft model."
   ]
  },
  {
   "cell_type": "markdown",
   "id": "5f69be2a",
   "metadata": {},
   "source": [
    "* Top models by total fatalities"
   ]
  },
  {
   "cell_type": "code",
   "execution_count": 31,
   "id": "840917bb",
   "metadata": {},
   "outputs": [
    {
     "data": {
      "text/html": [
       "<div>\n",
       "<style scoped>\n",
       "    .dataframe tbody tr th:only-of-type {\n",
       "        vertical-align: middle;\n",
       "    }\n",
       "\n",
       "    .dataframe tbody tr th {\n",
       "        vertical-align: top;\n",
       "    }\n",
       "\n",
       "    .dataframe thead th {\n",
       "        text-align: right;\n",
       "    }\n",
       "</style>\n",
       "<table border=\"1\" class=\"dataframe\">\n",
       "  <thead>\n",
       "    <tr style=\"text-align: right;\">\n",
       "      <th></th>\n",
       "      <th>Aircraft Type</th>\n",
       "      <th>Fatalities Count</th>\n",
       "    </tr>\n",
       "  </thead>\n",
       "  <tbody>\n",
       "    <tr>\n",
       "      <th>3196</th>\n",
       "      <td>Boeing 720-051B</td>\n",
       "      <td>1</td>\n",
       "    </tr>\n",
       "    <tr>\n",
       "      <th>2216</th>\n",
       "      <td>Boeing 717-2K9</td>\n",
       "      <td>1</td>\n",
       "    </tr>\n",
       "    <tr>\n",
       "      <th>2217</th>\n",
       "      <td>Boeing 737-9B5</td>\n",
       "      <td>1</td>\n",
       "    </tr>\n",
       "    <tr>\n",
       "      <th>2218</th>\n",
       "      <td>EO-5C (DHC-7-102)</td>\n",
       "      <td>1</td>\n",
       "    </tr>\n",
       "    <tr>\n",
       "      <th>2219</th>\n",
       "      <td>Boeing 777-266ER</td>\n",
       "      <td>1</td>\n",
       "    </tr>\n",
       "    <tr>\n",
       "      <th>...</th>\n",
       "      <td>...</td>\n",
       "      <td>...</td>\n",
       "    </tr>\n",
       "    <tr>\n",
       "      <th>4</th>\n",
       "      <td>Antonov An-2R</td>\n",
       "      <td>389</td>\n",
       "    </tr>\n",
       "    <tr>\n",
       "      <th>3</th>\n",
       "      <td>Curtiss C-46A</td>\n",
       "      <td>564</td>\n",
       "    </tr>\n",
       "    <tr>\n",
       "      <th>2</th>\n",
       "      <td>Douglas C-47B (DC-3)</td>\n",
       "      <td>592</td>\n",
       "    </tr>\n",
       "    <tr>\n",
       "      <th>1</th>\n",
       "      <td>Douglas C-47 (DC-3)</td>\n",
       "      <td>668</td>\n",
       "    </tr>\n",
       "    <tr>\n",
       "      <th>0</th>\n",
       "      <td>Douglas C-47A (DC-3)</td>\n",
       "      <td>1915</td>\n",
       "    </tr>\n",
       "  </tbody>\n",
       "</table>\n",
       "<p>3197 rows × 2 columns</p>\n",
       "</div>"
      ],
      "text/plain": [
       "             Aircraft Type  Fatalities Count\n",
       "3196       Boeing 720-051B                 1\n",
       "2216        Boeing 717-2K9                 1\n",
       "2217        Boeing 737-9B5                 1\n",
       "2218     EO-5C (DHC-7-102)                 1\n",
       "2219      Boeing 777-266ER                 1\n",
       "...                    ...               ...\n",
       "4            Antonov An-2R               389\n",
       "3            Curtiss C-46A               564\n",
       "2     Douglas C-47B (DC-3)               592\n",
       "1      Douglas C-47 (DC-3)               668\n",
       "0     Douglas C-47A (DC-3)              1915\n",
       "\n",
       "[3197 rows x 2 columns]"
      ]
     },
     "execution_count": 31,
     "metadata": {},
     "output_type": "execute_result"
    }
   ],
   "source": [
    "# Identifying the top models by total fatalities\n",
    "top_models_fatalities = df_clean.groupby('Type')['Fatalities'].sum().sort_values(ascending=True)\n",
    "top_aircraft_models_df = top_aircraft_models.reset_index()\n",
    "top_aircraft_models_df.columns = ['Aircraft Type', 'Fatalities Count']\n",
    "top_aircraft_models_df = top_aircraft_models_df.sort_values(by=\"Fatalities Count\", ascending=True)\n",
    "top_aircraft_models_df"
   ]
  },
  {
   "cell_type": "markdown",
   "id": "7104e0f6",
   "metadata": {},
   "source": [
    "This shows that some models even though had accidents, the were not fatalities involved. This means that there the accidents were not severe  but some like the 'Douglas C-47A (DC-3)' had the highest fatalities. This plane was a commercial airliner hence solidifying the fact that commercial airplanes consequently have more fatalities. The company must this consider such implications of investing in commercial airplanes over private airplanes."
   ]
  },
  {
   "cell_type": "markdown",
   "id": "d10a9498",
   "metadata": {},
   "source": [
    "### **Operator Risk**"
   ]
  },
  {
   "cell_type": "code",
   "execution_count": 32,
   "id": "ba63cbf8",
   "metadata": {},
   "outputs": [
    {
     "data": {
      "image/png": "[encoded data removed]",
      "text/plain": [
       "<Figure size 576x720 with 1 Axes>"
      ]
     },
     "metadata": {},
     "output_type": "display_data"
    }
   ],
   "source": [
    "# Identifying the operators with the highest number of accidents\n",
    "top_operators = df_clean['Operator'].value_counts().head(10)    \n",
    "\n",
    "plt.figure(figsize=(8,10))\n",
    "plt.pie(top_operators.values, labels=top_operators.index, autopct='%1.1f%%', textprops={'color':\"white\"}) \n",
    "plt.title(\"Top 10 operators with highest accident rates\", color=\"white\")\n",
    "plt.show()\n",
    "\n"
   ]
  },
  {
   "cell_type": "markdown",
   "id": "33545b7c",
   "metadata": {},
   "source": [
    "The top 10 operators due to most accidents make up 95% of all the accident cases. As for the first 5, they are mainly Military operators which makes sense due to the wars that have been involved due the 100-year period. Since the company wants to invest in this industry, it is worth noting that 'private' operators make up 4.4% of all accidents so far. This is quite low but should be put into consideration given that all the others above are military operators. This means private operators are very susceptible to accidents hence due diligence should be done to identify the root cause before investing in this industry "
   ]
  },
  {
   "cell_type": "markdown",
   "id": "02997c45",
   "metadata": {},
   "source": [
    "### **Geographic Risk**"
   ]
  },
  {
   "cell_type": "code",
   "execution_count": 33,
   "id": "f45d09e3",
   "metadata": {},
   "outputs": [
    {
     "data": {
      "text/plain": [
       "Text(0, 0.5, 'Number of Accidents')"
      ]
     },
     "execution_count": 33,
     "metadata": {},
     "output_type": "execute_result"
    },
    {
     "data": {
      "image/png": "[encoded data removed]",
      "text/plain": [
       "<Figure size 864x432 with 1 Axes>"
      ]
     },
     "metadata": {
      "needs_background": "light"
     },
     "output_type": "display_data"
    }
   ],
   "source": [
    "# Bar graph for countries with the least number of accidents\n",
    "Country_counts = df_clean['Country'].value_counts().head(10)\n",
    "\n",
    "# Plotting a bar graph\n",
    "plt.figure(figsize=(12,6)) # Setting the figure size\n",
    "plt.bar(Country_counts.index, Country_counts.values, color=\"darkblue\")\n",
    "plt.title(\"Countries with the highest number of accidents\", color=\"black\")  \n",
    "plt.xlabel(\"Countries\", color=\"black\")\n",
    "plt.ylabel(\"Number of Accidents\", color=\"black\")\n"
   ]
  },
  {
   "cell_type": "markdown",
   "id": "27f2020f",
   "metadata": {},
   "source": [
    "USA has the highest number of recorded accidents. The company has two consider that investing in aircrafts that fly to the US imposes greater risks than any other location historically. As much as the US may be better profitably, the risks involved are also significantly high. There are also unspecified countries which need to be investigated deeper and identified for a well-informed investment decision "
   ]
  },
  {
   "cell_type": "code",
   "execution_count": 34,
   "id": "329c232f",
   "metadata": {},
   "outputs": [
    {
     "data": {
      "text/plain": [
       "Text(0, 0.5, 'Locations')"
      ]
     },
     "execution_count": 34,
     "metadata": {},
     "output_type": "execute_result"
    },
    {
     "data": {
      "image/png": "[encoded data removed]",
      "text/plain": [
       "<Figure size 864x432 with 1 Axes>"
      ]
     },
     "metadata": {
      "needs_background": "light"
     },
     "output_type": "display_data"
    }
   ],
   "source": [
    "# Bar graph for location with the least number of accidents\n",
    "Location_counts = df_clean['Location'].value_counts().head(10)\n",
    "\n",
    "# Plotting a bar graph\n",
    "plt.figure(figsize=(12,6)) # Setting the figure size\n",
    "plt.barh(Location_counts.index, Location_counts.values, color=\"darkblue\")\n",
    "plt.title(\"Locations with the highest number of accidents\", color=\"black\")  \n",
    "plt.xlabel(\"Number of Accidents\", color=\"black\")\n",
    "plt.ylabel(\"Locations\", color=\"black\")"
   ]
  },
  {
   "cell_type": "markdown",
   "id": "6b189ad9",
   "metadata": {},
   "source": [
    "The locations do not provide complete information due to the unknown and unspecified locations. This means it would be difficult to identify the highest risk locations that should be taken into consideration when determining the risk of landing."
   ]
  }
 ],
 "metadata": {
  "kernelspec": {
   "display_name": "learn-env",
   "language": "python",
   "name": "python3"
  },
  "language_info": {
   "codemirror_mode": {
    "name": "ipython",
    "version": 3
   },
   "file_extension": ".py",
   "mimetype": "text/x-python",
   "name": "python",
   "nbconvert_exporter": "python",
   "pygments_lexer": "ipython3",
   "version": "3.8.5"
  }
 },
 "nbformat": 4,
 "nbformat_minor": 5
}
