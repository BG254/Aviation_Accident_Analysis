{
 "cells": [
  {
   "cell_type": "markdown",
   "id": "3b741d4d",
   "metadata": {},
   "source": [
    "# AN ANALYSIS OF AVIATION ACCIDENTS(1919 TO 2023)"
   ]
  },
  {
   "cell_type": "markdown",
   "id": "6dbb0b8c",
   "metadata": {},
   "source": [
    "## Overview\n"
   ]
  },
  {
   "cell_type": "markdown",
   "id": "608d4ebe",
   "metadata": {},
   "source": [
    "This project analyses not only the potential risks of a new aviation division but also provides a guide on the optimal aircraft selection procedure so as to necessitate a decision on the type of aircraft to purchase."
   ]
  },
  {
   "cell_type": "markdown",
   "id": "055d4bd3",
   "metadata": {},
   "source": []
  }
 ],
 "metadata": {
  "kernelspec": {
   "display_name": "learn-env",
   "language": "python",
   "name": "python3"
  },
  "language_info": {
   "codemirror_mode": {
    "name": "ipython",
    "version": 3
   },
   "file_extension": ".py",
   "mimetype": "text/x-python",
   "name": "python",
   "nbconvert_exporter": "python",
   "pygments_lexer": "ipython3",
   "version": "3.8.5"
  }
 },
 "nbformat": 4,
 "nbformat_minor": 5
}
