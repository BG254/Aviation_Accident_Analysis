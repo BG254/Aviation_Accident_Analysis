{
 "cells": [
  {
   "cell_type": "markdown",
   "id": "3b741d4d",
   "metadata": {},
   "source": [
    "# AN ANALYSIS OF AVIATION ACCIDENTS(1919 TO 2023)"
   ]
  },
  {
   "cell_type": "markdown",
   "id": "9af2b3ef",
   "metadata": {},
   "source": [
    "<img src='Images\\Airplane_Analysis.jpeg' style=\"width: 750px; height: auto;\" alt='Airplane_Analysis >"
   ]
  },
  {
   "cell_type": "markdown",
   "id": "6dbb0b8c",
   "metadata": {},
   "source": [
    "## Overview\n"
   ]
  },
  {
   "cell_type": "markdown",
   "id": "608d4ebe",
   "metadata": {},
   "source": [
    "This analysis aims at identifying the least-risk aircraft type that would encourage a well-informed purchase based on historical accidents data. This will be done by examining several variables such as accident frequency, fatality rates, aircraft type, operator and geographical distribution. This will consequently highlight the aircraft and operational environments that are associated with the highest and lowest levels of risk. Afterwards, this data will be used by the company to adjust capital investment, training programs and operational focus to improve resource allocation and minimize financial exposure in this new business endeavor. "
   ]
  },
  {
   "cell_type": "markdown",
   "id": "055d4bd3",
   "metadata": {},
   "source": []
  }
 ],
 "metadata": {
  "kernelspec": {
   "display_name": "learn-env",
   "language": "python",
   "name": "python3"
  },
  "language_info": {
   "codemirror_mode": {
    "name": "ipython",
    "version": 3
   },
   "file_extension": ".py",
   "mimetype": "text/x-python",
   "name": "python",
   "nbconvert_exporter": "python",
   "pygments_lexer": "ipython3",
   "version": "3.8.5"
  }
 },
 "nbformat": 4,
 "nbformat_minor": 5
}
